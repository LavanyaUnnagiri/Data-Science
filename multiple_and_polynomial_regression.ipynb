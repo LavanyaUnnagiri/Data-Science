{
 "cells": [
  {
   "cell_type": "markdown",
   "id": "40cdff50",
   "metadata": {},
   "source": [
    "### Multiple Linear Regression\n",
    "\n",
    "- one dependant variable and multiple independent variables\n",
    "- y=b0+b1x1+b2x2.......+bnxn\n",
    "- price of the house\n",
    "### Process using sklearn\n",
    "\n",
    "- Read the data\n",
    "- Cleaning/analyzing\n",
    "- Seperate the features and target\n",
    "- split the data for Train/test\n",
    "- select the required model\n",
    "- fit our training data\n",
    "- predict the data using testdata\n",
    "- compare the actual and predicted data\n",
    "- evaluation metrics"
   ]
  },
  {
   "cell_type": "code",
   "execution_count": 1,
   "id": "9b131b2f",
   "metadata": {},
   "outputs": [],
   "source": [
    "#reading the data\n",
    "import pandas as pd\n",
    "data=pd.read_csv(\"https://raw.githubusercontent.com/AP-State-Skill-Development-Corporation/Datasets/master/Regression/FuelConsumptionCo2.csv\")"
   ]
  },
  {
   "cell_type": "code",
   "execution_count": 2,
   "id": "e799673d",
   "metadata": {},
   "outputs": [
    {
     "data": {
      "text/html": [
       "<div>\n",
       "<style scoped>\n",
       "    .dataframe tbody tr th:only-of-type {\n",
       "        vertical-align: middle;\n",
       "    }\n",
       "\n",
       "    .dataframe tbody tr th {\n",
       "        vertical-align: top;\n",
       "    }\n",
       "\n",
       "    .dataframe thead th {\n",
       "        text-align: right;\n",
       "    }\n",
       "</style>\n",
       "<table border=\"1\" class=\"dataframe\">\n",
       "  <thead>\n",
       "    <tr style=\"text-align: right;\">\n",
       "      <th></th>\n",
       "      <th>MODELYEAR</th>\n",
       "      <th>MAKE</th>\n",
       "      <th>MODEL</th>\n",
       "      <th>VEHICLECLASS</th>\n",
       "      <th>ENGINESIZE</th>\n",
       "      <th>CYLINDERS</th>\n",
       "      <th>TRANSMISSION</th>\n",
       "      <th>FUELTYPE</th>\n",
       "      <th>FUELCONSUMPTION_CITY</th>\n",
       "      <th>FUELCONSUMPTION_HWY</th>\n",
       "      <th>FUELCONSUMPTION_COMB</th>\n",
       "      <th>FUELCONSUMPTION_COMB_MPG</th>\n",
       "      <th>CO2EMISSIONS</th>\n",
       "    </tr>\n",
       "  </thead>\n",
       "  <tbody>\n",
       "    <tr>\n",
       "      <th>0</th>\n",
       "      <td>2014</td>\n",
       "      <td>ACURA</td>\n",
       "      <td>ILX</td>\n",
       "      <td>COMPACT</td>\n",
       "      <td>2.0</td>\n",
       "      <td>4</td>\n",
       "      <td>AS5</td>\n",
       "      <td>Z</td>\n",
       "      <td>9.9</td>\n",
       "      <td>6.7</td>\n",
       "      <td>8.5</td>\n",
       "      <td>33</td>\n",
       "      <td>196</td>\n",
       "    </tr>\n",
       "    <tr>\n",
       "      <th>1</th>\n",
       "      <td>2014</td>\n",
       "      <td>ACURA</td>\n",
       "      <td>ILX</td>\n",
       "      <td>COMPACT</td>\n",
       "      <td>2.4</td>\n",
       "      <td>4</td>\n",
       "      <td>M6</td>\n",
       "      <td>Z</td>\n",
       "      <td>11.2</td>\n",
       "      <td>7.7</td>\n",
       "      <td>9.6</td>\n",
       "      <td>29</td>\n",
       "      <td>221</td>\n",
       "    </tr>\n",
       "    <tr>\n",
       "      <th>2</th>\n",
       "      <td>2014</td>\n",
       "      <td>ACURA</td>\n",
       "      <td>ILX HYBRID</td>\n",
       "      <td>COMPACT</td>\n",
       "      <td>1.5</td>\n",
       "      <td>4</td>\n",
       "      <td>AV7</td>\n",
       "      <td>Z</td>\n",
       "      <td>6.0</td>\n",
       "      <td>5.8</td>\n",
       "      <td>5.9</td>\n",
       "      <td>48</td>\n",
       "      <td>136</td>\n",
       "    </tr>\n",
       "    <tr>\n",
       "      <th>3</th>\n",
       "      <td>2014</td>\n",
       "      <td>ACURA</td>\n",
       "      <td>MDX 4WD</td>\n",
       "      <td>SUV - SMALL</td>\n",
       "      <td>3.5</td>\n",
       "      <td>6</td>\n",
       "      <td>AS6</td>\n",
       "      <td>Z</td>\n",
       "      <td>12.7</td>\n",
       "      <td>9.1</td>\n",
       "      <td>11.1</td>\n",
       "      <td>25</td>\n",
       "      <td>255</td>\n",
       "    </tr>\n",
       "    <tr>\n",
       "      <th>4</th>\n",
       "      <td>2014</td>\n",
       "      <td>ACURA</td>\n",
       "      <td>RDX AWD</td>\n",
       "      <td>SUV - SMALL</td>\n",
       "      <td>3.5</td>\n",
       "      <td>6</td>\n",
       "      <td>AS6</td>\n",
       "      <td>Z</td>\n",
       "      <td>12.1</td>\n",
       "      <td>8.7</td>\n",
       "      <td>10.6</td>\n",
       "      <td>27</td>\n",
       "      <td>244</td>\n",
       "    </tr>\n",
       "  </tbody>\n",
       "</table>\n",
       "</div>"
      ],
      "text/plain": [
       "   MODELYEAR   MAKE       MODEL VEHICLECLASS  ENGINESIZE  CYLINDERS  \\\n",
       "0       2014  ACURA         ILX      COMPACT         2.0          4   \n",
       "1       2014  ACURA         ILX      COMPACT         2.4          4   \n",
       "2       2014  ACURA  ILX HYBRID      COMPACT         1.5          4   \n",
       "3       2014  ACURA     MDX 4WD  SUV - SMALL         3.5          6   \n",
       "4       2014  ACURA     RDX AWD  SUV - SMALL         3.5          6   \n",
       "\n",
       "  TRANSMISSION FUELTYPE  FUELCONSUMPTION_CITY  FUELCONSUMPTION_HWY  \\\n",
       "0          AS5        Z                   9.9                  6.7   \n",
       "1           M6        Z                  11.2                  7.7   \n",
       "2          AV7        Z                   6.0                  5.8   \n",
       "3          AS6        Z                  12.7                  9.1   \n",
       "4          AS6        Z                  12.1                  8.7   \n",
       "\n",
       "   FUELCONSUMPTION_COMB  FUELCONSUMPTION_COMB_MPG  CO2EMISSIONS  \n",
       "0                   8.5                        33           196  \n",
       "1                   9.6                        29           221  \n",
       "2                   5.9                        48           136  \n",
       "3                  11.1                        25           255  \n",
       "4                  10.6                        27           244  "
      ]
     },
     "execution_count": 2,
     "metadata": {},
     "output_type": "execute_result"
    }
   ],
   "source": [
    "data.head()"
   ]
  },
  {
   "cell_type": "code",
   "execution_count": 3,
   "id": "3f279982",
   "metadata": {},
   "outputs": [
    {
     "data": {
      "text/plain": [
       "(1067, 13)"
      ]
     },
     "execution_count": 3,
     "metadata": {},
     "output_type": "execute_result"
    }
   ],
   "source": [
    "data.shape"
   ]
  },
  {
   "cell_type": "code",
   "execution_count": 4,
   "id": "47b44ebb",
   "metadata": {},
   "outputs": [
    {
     "data": {
      "text/plain": [
       "MODELYEAR                   0\n",
       "MAKE                        0\n",
       "MODEL                       0\n",
       "VEHICLECLASS                0\n",
       "ENGINESIZE                  0\n",
       "CYLINDERS                   0\n",
       "TRANSMISSION                0\n",
       "FUELTYPE                    0\n",
       "FUELCONSUMPTION_CITY        0\n",
       "FUELCONSUMPTION_HWY         0\n",
       "FUELCONSUMPTION_COMB        0\n",
       "FUELCONSUMPTION_COMB_MPG    0\n",
       "CO2EMISSIONS                0\n",
       "dtype: int64"
      ]
     },
     "execution_count": 4,
     "metadata": {},
     "output_type": "execute_result"
    }
   ],
   "source": [
    "data.isnull().sum()"
   ]
  },
  {
   "cell_type": "code",
   "execution_count": 5,
   "id": "4274fc51",
   "metadata": {},
   "outputs": [
    {
     "data": {
      "text/plain": [
       "2014    1067\n",
       "Name: MODELYEAR, dtype: int64"
      ]
     },
     "execution_count": 5,
     "metadata": {},
     "output_type": "execute_result"
    }
   ],
   "source": [
    "data[\"MODELYEAR\"].value_counts()"
   ]
  },
  {
   "cell_type": "code",
   "execution_count": 6,
   "id": "c7961014",
   "metadata": {},
   "outputs": [],
   "source": [
    "x=data[[\"FUELCONSUMPTION_CITY\",\"FUELCONSUMPTION_HWY\",\"FUELCONSUMPTION_COMB\"]]\n",
    "y=data[\"CO2EMISSIONS\"]"
   ]
  },
  {
   "cell_type": "code",
   "execution_count": 7,
   "id": "fcf5d76d",
   "metadata": {},
   "outputs": [
    {
     "data": {
      "text/html": [
       "<div>\n",
       "<style scoped>\n",
       "    .dataframe tbody tr th:only-of-type {\n",
       "        vertical-align: middle;\n",
       "    }\n",
       "\n",
       "    .dataframe tbody tr th {\n",
       "        vertical-align: top;\n",
       "    }\n",
       "\n",
       "    .dataframe thead th {\n",
       "        text-align: right;\n",
       "    }\n",
       "</style>\n",
       "<table border=\"1\" class=\"dataframe\">\n",
       "  <thead>\n",
       "    <tr style=\"text-align: right;\">\n",
       "      <th></th>\n",
       "      <th>FUELCONSUMPTION_CITY</th>\n",
       "      <th>FUELCONSUMPTION_HWY</th>\n",
       "      <th>FUELCONSUMPTION_COMB</th>\n",
       "    </tr>\n",
       "  </thead>\n",
       "  <tbody>\n",
       "    <tr>\n",
       "      <th>733</th>\n",
       "      <td>15.4</td>\n",
       "      <td>11.0</td>\n",
       "      <td>13.4</td>\n",
       "    </tr>\n",
       "    <tr>\n",
       "      <th>671</th>\n",
       "      <td>15.1</td>\n",
       "      <td>10.3</td>\n",
       "      <td>12.9</td>\n",
       "    </tr>\n",
       "    <tr>\n",
       "      <th>344</th>\n",
       "      <td>24.1</td>\n",
       "      <td>19.2</td>\n",
       "      <td>21.9</td>\n",
       "    </tr>\n",
       "    <tr>\n",
       "      <th>675</th>\n",
       "      <td>12.7</td>\n",
       "      <td>9.1</td>\n",
       "      <td>11.1</td>\n",
       "    </tr>\n",
       "    <tr>\n",
       "      <th>200</th>\n",
       "      <td>9.5</td>\n",
       "      <td>6.5</td>\n",
       "      <td>8.2</td>\n",
       "    </tr>\n",
       "    <tr>\n",
       "      <th>...</th>\n",
       "      <td>...</td>\n",
       "      <td>...</td>\n",
       "      <td>...</td>\n",
       "    </tr>\n",
       "    <tr>\n",
       "      <th>255</th>\n",
       "      <td>9.4</td>\n",
       "      <td>7.0</td>\n",
       "      <td>8.3</td>\n",
       "    </tr>\n",
       "    <tr>\n",
       "      <th>886</th>\n",
       "      <td>10.7</td>\n",
       "      <td>7.4</td>\n",
       "      <td>9.2</td>\n",
       "    </tr>\n",
       "    <tr>\n",
       "      <th>143</th>\n",
       "      <td>10.2</td>\n",
       "      <td>8.0</td>\n",
       "      <td>9.2</td>\n",
       "    </tr>\n",
       "    <tr>\n",
       "      <th>474</th>\n",
       "      <td>23.3</td>\n",
       "      <td>16.1</td>\n",
       "      <td>20.1</td>\n",
       "    </tr>\n",
       "    <tr>\n",
       "      <th>318</th>\n",
       "      <td>14.2</td>\n",
       "      <td>9.8</td>\n",
       "      <td>12.2</td>\n",
       "    </tr>\n",
       "  </tbody>\n",
       "</table>\n",
       "<p>746 rows × 3 columns</p>\n",
       "</div>"
      ],
      "text/plain": [
       "     FUELCONSUMPTION_CITY  FUELCONSUMPTION_HWY  FUELCONSUMPTION_COMB\n",
       "733                  15.4                 11.0                  13.4\n",
       "671                  15.1                 10.3                  12.9\n",
       "344                  24.1                 19.2                  21.9\n",
       "675                  12.7                  9.1                  11.1\n",
       "200                   9.5                  6.5                   8.2\n",
       "..                    ...                  ...                   ...\n",
       "255                   9.4                  7.0                   8.3\n",
       "886                  10.7                  7.4                   9.2\n",
       "143                  10.2                  8.0                   9.2\n",
       "474                  23.3                 16.1                  20.1\n",
       "318                  14.2                  9.8                  12.2\n",
       "\n",
       "[746 rows x 3 columns]"
      ]
     },
     "execution_count": 7,
     "metadata": {},
     "output_type": "execute_result"
    }
   ],
   "source": [
    "from sklearn.model_selection import train_test_split\n",
    "x_train,x_test,y_train,y_test=train_test_split(x,y,test_size=0.3,random_state=25)\n",
    "x_train"
   ]
  },
  {
   "cell_type": "code",
   "execution_count": 8,
   "id": "1de1030e",
   "metadata": {},
   "outputs": [
    {
     "data": {
      "text/html": [
       "<div>\n",
       "<style scoped>\n",
       "    .dataframe tbody tr th:only-of-type {\n",
       "        vertical-align: middle;\n",
       "    }\n",
       "\n",
       "    .dataframe tbody tr th {\n",
       "        vertical-align: top;\n",
       "    }\n",
       "\n",
       "    .dataframe thead th {\n",
       "        text-align: right;\n",
       "    }\n",
       "</style>\n",
       "<table border=\"1\" class=\"dataframe\">\n",
       "  <thead>\n",
       "    <tr style=\"text-align: right;\">\n",
       "      <th></th>\n",
       "      <th>FUELCONSUMPTION_CITY</th>\n",
       "      <th>FUELCONSUMPTION_HWY</th>\n",
       "      <th>FUELCONSUMPTION_COMB</th>\n",
       "    </tr>\n",
       "  </thead>\n",
       "  <tbody>\n",
       "    <tr>\n",
       "      <th>119</th>\n",
       "      <td>16.2</td>\n",
       "      <td>10.9</td>\n",
       "      <td>13.8</td>\n",
       "    </tr>\n",
       "    <tr>\n",
       "      <th>450</th>\n",
       "      <td>21.3</td>\n",
       "      <td>14.3</td>\n",
       "      <td>18.2</td>\n",
       "    </tr>\n",
       "    <tr>\n",
       "      <th>469</th>\n",
       "      <td>16.0</td>\n",
       "      <td>11.1</td>\n",
       "      <td>13.8</td>\n",
       "    </tr>\n",
       "    <tr>\n",
       "      <th>239</th>\n",
       "      <td>14.6</td>\n",
       "      <td>10.3</td>\n",
       "      <td>12.7</td>\n",
       "    </tr>\n",
       "    <tr>\n",
       "      <th>572</th>\n",
       "      <td>12.5</td>\n",
       "      <td>8.8</td>\n",
       "      <td>10.8</td>\n",
       "    </tr>\n",
       "    <tr>\n",
       "      <th>...</th>\n",
       "      <td>...</td>\n",
       "      <td>...</td>\n",
       "      <td>...</td>\n",
       "    </tr>\n",
       "    <tr>\n",
       "      <th>596</th>\n",
       "      <td>14.1</td>\n",
       "      <td>11.1</td>\n",
       "      <td>12.8</td>\n",
       "    </tr>\n",
       "    <tr>\n",
       "      <th>1005</th>\n",
       "      <td>17.6</td>\n",
       "      <td>12.9</td>\n",
       "      <td>15.5</td>\n",
       "    </tr>\n",
       "    <tr>\n",
       "      <th>853</th>\n",
       "      <td>9.1</td>\n",
       "      <td>8.5</td>\n",
       "      <td>8.8</td>\n",
       "    </tr>\n",
       "    <tr>\n",
       "      <th>28</th>\n",
       "      <td>13.1</td>\n",
       "      <td>8.8</td>\n",
       "      <td>11.2</td>\n",
       "    </tr>\n",
       "    <tr>\n",
       "      <th>657</th>\n",
       "      <td>11.3</td>\n",
       "      <td>7.6</td>\n",
       "      <td>9.6</td>\n",
       "    </tr>\n",
       "  </tbody>\n",
       "</table>\n",
       "<p>321 rows × 3 columns</p>\n",
       "</div>"
      ],
      "text/plain": [
       "      FUELCONSUMPTION_CITY  FUELCONSUMPTION_HWY  FUELCONSUMPTION_COMB\n",
       "119                   16.2                 10.9                  13.8\n",
       "450                   21.3                 14.3                  18.2\n",
       "469                   16.0                 11.1                  13.8\n",
       "239                   14.6                 10.3                  12.7\n",
       "572                   12.5                  8.8                  10.8\n",
       "...                    ...                  ...                   ...\n",
       "596                   14.1                 11.1                  12.8\n",
       "1005                  17.6                 12.9                  15.5\n",
       "853                    9.1                  8.5                   8.8\n",
       "28                    13.1                  8.8                  11.2\n",
       "657                   11.3                  7.6                   9.6\n",
       "\n",
       "[321 rows x 3 columns]"
      ]
     },
     "execution_count": 8,
     "metadata": {},
     "output_type": "execute_result"
    }
   ],
   "source": [
    "x_test"
   ]
  },
  {
   "cell_type": "code",
   "execution_count": 9,
   "id": "f3b2ce48",
   "metadata": {},
   "outputs": [
    {
     "data": {
      "text/plain": [
       "LinearRegression()"
      ]
     },
     "execution_count": 9,
     "metadata": {},
     "output_type": "execute_result"
    }
   ],
   "source": [
    "from sklearn.linear_model import LinearRegression\n",
    "model=LinearRegression()\n",
    "model.fit(x_train,y_train)"
   ]
  },
  {
   "cell_type": "code",
   "execution_count": 10,
   "id": "2f953953",
   "metadata": {},
   "outputs": [
    {
     "data": {
      "text/plain": [
       "array([296.85976626, 366.46566403, 293.0023507 , 273.8648673 ,\n",
       "       245.14634293, 268.60880516, 303.64351407, 223.08252727,\n",
       "       219.65738279, 223.98236162, 276.48796756, 315.36939834,\n",
       "       236.43388735, 221.5548416 , 184.62267389, 290.57483069,\n",
       "       272.03394964, 198.07182409, 228.12245387, 265.78026304,\n",
       "       237.95087933, 253.64266297, 190.78926405, 367.9933497 ,\n",
       "       219.65738279, 276.82244851, 249.68745729, 267.23071387,\n",
       "       199.37268054, 297.19424721, 367.9933497 , 274.19934824,\n",
       "       229.65013954, 213.47023735, 195.73140052, 231.04878612,\n",
       "       226.00885952, 329.84742197, 334.00806951, 353.54657503,\n",
       "       229.86627508, 232.9774939 , 303.82840064, 318.05903977,\n",
       "       258.08598721, 236.21775181, 242.12222055, 191.62255723,\n",
       "       296.85976626, 214.25172628, 189.0766918 , 235.22012734,\n",
       "       198.97165843, 252.04843614, 367.1806118 , 275.67522966,\n",
       "       270.25483624, 237.36497065, 316.16158095, 240.75886617,\n",
       "       319.70507085, 241.90608502, 147.54091179, 257.58717498,\n",
       "       266.68009738, 233.19362943, 269.72477504, 322.74974851,\n",
       "       250.50019519, 243.52086713, 261.32624512, 225.19612162,\n",
       "       225.19612162, 296.2631639 , 235.0039918 , 248.47369728,\n",
       "       368.11169511, 205.85319636, 367.9933497 , 224.39407741,\n",
       "       336.65172506, 270.25483624, 204.65999164, 132.79090514,\n",
       "       327.48644312, 318.05903977, 190.87636049, 343.19878205,\n",
       "       250.9012173 , 204.94266833, 315.66276872, 337.9632752 ,\n",
       "       220.83989383, 141.47211176, 251.11735283, 283.39006078,\n",
       "       259.82980842, 287.43236291, 294.99759964, 207.90024955,\n",
       "       233.19362943, 253.82754955, 187.95002824, 323.8451631 ,\n",
       "       279.33706497, 259.82980842, 261.72726723, 228.220244  ,\n",
       "       208.89787402, 272.68235626, 234.1912539 , 220.3410816 ,\n",
       "       214.08739499, 273.67998072, 250.00138295, 201.30138832,\n",
       "       201.30138832, 291.505914  , 240.75886617, 320.80048544,\n",
       "       244.83241726, 183.40891388, 258.28156746, 306.75473288,\n",
       "       333.48870199, 241.47381394, 207.98734599, 184.62267389,\n",
       "       249.50257072, 234.30959931, 253.72975942, 276.10750074,\n",
       "       391.21912111, 270.93853505, 177.62279055, 312.92132304,\n",
       "       257.58717498, 222.86639174, 234.50517957, 298.45399309,\n",
       "       232.79260733, 247.97488505, 194.01882828, 254.44470719,\n",
       "       291.19198834, 275.79357507, 251.11735283, 306.75473288,\n",
       "       173.64702958, 400.66707975, 190.47533838, 228.03535743,\n",
       "       205.97154177, 192.0901205 , 230.58122285, 278.63281088,\n",
       "       234.69006614, 260.01469499, 258.08598721, 256.78513076,\n",
       "       211.01146837, 238.36259512, 194.01882828, 291.69080057,\n",
       "       277.93841839, 341.55275097, 228.65251507, 251.49781966,\n",
       "       296.85976626, 254.47595616, 181.16628044, 315.44663318,\n",
       "       134.90449949, 255.35523522, 285.55545938, 328.13484973,\n",
       "       205.87375164, 159.6119707 , 232.07765955, 270.03870071,\n",
       "       238.04866946, 185.40416282, 257.78275523, 307.06865855,\n",
       "       319.60728072, 325.70732972, 213.96904958, 208.30127166,\n",
       "       394.26379877, 229.26967272, 323.8451631 , 219.65738279,\n",
       "       215.9848538 , 199.18779397, 236.65002288, 214.65274839,\n",
       "       308.8995762 , 225.79272398, 214.08739499, 193.3038805 ,\n",
       "       203.44623163, 357.96934398, 208.08513612, 205.65761611,\n",
       "       242.8831542 , 224.39407741, 306.85252301, 221.77097714,\n",
       "       326.92108973, 271.46859625, 161.72556505, 191.09249603,\n",
       "       229.13077202, 180.76525833, 210.0138439 , 201.21429187,\n",
       "       218.51016394, 201.33263728, 211.82420627, 206.25421847,\n",
       "       298.14006743, 176.7229562 , 306.83196773, 265.86735948,\n",
       "       327.03943514, 364.56820521, 268.72715057, 307.4031395 ,\n",
       "       367.9933497 , 341.55275097, 318.05903977, 278.43723062,\n",
       "       215.301155  , 203.72890833, 198.68898173, 231.97986943,\n",
       "       184.80756046, 249.28643518, 332.65540881, 272.25008518,\n",
       "       277.50614732, 147.97318287, 195.94753605, 198.47284619,\n",
       "       402.97625435, 323.24856074, 200.00053186, 257.58717498,\n",
       "       266.18128515, 212.0403418 , 245.94838715, 332.6759641 ,\n",
       "       195.54651395, 203.72890833, 220.72154842, 251.61616507,\n",
       "       247.57386294, 291.57245516, 236.83490945, 318.05903977,\n",
       "       236.15121065, 323.8451631 , 265.18366068, 304.20886746,\n",
       "       308.71468963, 266.49521081, 258.99651524, 335.62285163,\n",
       "       243.61865726, 387.79397663, 225.79272398, 209.18055072,\n",
       "       290.19436387, 179.95252043, 231.04878612, 372.84838972,\n",
       "       266.99402305, 245.6139062 , 221.5548416 , 169.62528273,\n",
       "       257.46882957, 262.22607947, 224.51242282, 229.21786847,\n",
       "       256.25506956, 208.89787402, 193.40167063, 232.47868166,\n",
       "       241.19113725, 278.53502075, 220.72154842, 257.58717498,\n",
       "       187.52845085, 233.5075551 , 262.94102724, 238.57873066,\n",
       "       259.39753734, 207.80245942, 363.13830967, 202.51514832,\n",
       "       194.73377605, 247.95432977, 296.64363072, 284.70161091,\n",
       "       239.7612417 , 219.32290184, 226.67200304, 321.03717627,\n",
       "       263.35274303, 190.47533838, 192.00302405, 307.4031395 ,\n",
       "       233.19362943, 223.26741384, 232.79260733, 255.75625732,\n",
       "       262.60654629, 311.70756304, 191.16973087, 255.6584672 ,\n",
       "       230.58122285])"
      ]
     },
     "execution_count": 10,
     "metadata": {},
     "output_type": "execute_result"
    }
   ],
   "source": [
    "y_pred=model.predict(x_test)\n",
    "y_pred"
   ]
  },
  {
   "cell_type": "code",
   "execution_count": 11,
   "id": "b084e910",
   "metadata": {},
   "outputs": [
    {
     "data": {
      "text/plain": [
       "array([152.11327512])"
      ]
     },
     "execution_count": 11,
     "metadata": {},
     "output_type": "execute_result"
    }
   ],
   "source": [
    "model.predict([[6.0,5.8,5.9]])"
   ]
  },
  {
   "cell_type": "code",
   "execution_count": 12,
   "id": "c785c74a",
   "metadata": {},
   "outputs": [
    {
     "data": {
      "text/plain": [
       "79.7396580477286"
      ]
     },
     "execution_count": 12,
     "metadata": {},
     "output_type": "execute_result"
    }
   ],
   "source": [
    "from sklearn.metrics import r2_score,mean_squared_error\n",
    "r2_score(y_test,y_pred)*100"
   ]
  },
  {
   "cell_type": "code",
   "execution_count": 13,
   "id": "c248c07a",
   "metadata": {},
   "outputs": [
    {
     "data": {
      "text/plain": [
       "28.442165463114474"
      ]
     },
     "execution_count": 13,
     "metadata": {},
     "output_type": "execute_result"
    }
   ],
   "source": [
    "mean_squared_error(y_test,y_pred)**0.5"
   ]
  },
  {
   "cell_type": "code",
   "execution_count": 14,
   "id": "954d693c",
   "metadata": {},
   "outputs": [
    {
     "data": {
      "text/plain": [
       "78.57272695721005"
      ]
     },
     "execution_count": 14,
     "metadata": {},
     "output_type": "execute_result"
    }
   ],
   "source": [
    "model.intercept_"
   ]
  },
  {
   "cell_type": "code",
   "execution_count": 15,
   "id": "11df8005",
   "metadata": {},
   "outputs": [
    {
     "data": {
      "text/plain": [
       "array([10.28873435, -8.99834343, 10.84720914])"
      ]
     },
     "execution_count": 15,
     "metadata": {},
     "output_type": "execute_result"
    }
   ],
   "source": [
    "model.coef_"
   ]
  },
  {
   "cell_type": "markdown",
   "id": "b0af2dc2",
   "metadata": {},
   "source": [
    "### Polynomial regression"
   ]
  },
  {
   "cell_type": "code",
   "execution_count": 17,
   "id": "bbca889b",
   "metadata": {},
   "outputs": [],
   "source": [
    "data=pd.read_csv(\"https://raw.githubusercontent.com/AP-State-Skill-Development-Corporation/Datasets/master/Regression/china_gdp.csv\")"
   ]
  },
  {
   "cell_type": "code",
   "execution_count": 18,
   "id": "d8a93250",
   "metadata": {},
   "outputs": [
    {
     "data": {
      "text/html": [
       "<div>\n",
       "<style scoped>\n",
       "    .dataframe tbody tr th:only-of-type {\n",
       "        vertical-align: middle;\n",
       "    }\n",
       "\n",
       "    .dataframe tbody tr th {\n",
       "        vertical-align: top;\n",
       "    }\n",
       "\n",
       "    .dataframe thead th {\n",
       "        text-align: right;\n",
       "    }\n",
       "</style>\n",
       "<table border=\"1\" class=\"dataframe\">\n",
       "  <thead>\n",
       "    <tr style=\"text-align: right;\">\n",
       "      <th></th>\n",
       "      <th>Year</th>\n",
       "      <th>Value</th>\n",
       "    </tr>\n",
       "  </thead>\n",
       "  <tbody>\n",
       "    <tr>\n",
       "      <th>0</th>\n",
       "      <td>1960</td>\n",
       "      <td>5.918412e+10</td>\n",
       "    </tr>\n",
       "    <tr>\n",
       "      <th>1</th>\n",
       "      <td>1961</td>\n",
       "      <td>4.955705e+10</td>\n",
       "    </tr>\n",
       "    <tr>\n",
       "      <th>2</th>\n",
       "      <td>1962</td>\n",
       "      <td>4.668518e+10</td>\n",
       "    </tr>\n",
       "    <tr>\n",
       "      <th>3</th>\n",
       "      <td>1963</td>\n",
       "      <td>5.009730e+10</td>\n",
       "    </tr>\n",
       "    <tr>\n",
       "      <th>4</th>\n",
       "      <td>1964</td>\n",
       "      <td>5.906225e+10</td>\n",
       "    </tr>\n",
       "  </tbody>\n",
       "</table>\n",
       "</div>"
      ],
      "text/plain": [
       "   Year         Value\n",
       "0  1960  5.918412e+10\n",
       "1  1961  4.955705e+10\n",
       "2  1962  4.668518e+10\n",
       "3  1963  5.009730e+10\n",
       "4  1964  5.906225e+10"
      ]
     },
     "execution_count": 18,
     "metadata": {},
     "output_type": "execute_result"
    }
   ],
   "source": [
    "data.head()"
   ]
  },
  {
   "cell_type": "code",
   "execution_count": 19,
   "id": "f4fe9950",
   "metadata": {},
   "outputs": [
    {
     "data": {
      "text/plain": [
       "(55, 2)"
      ]
     },
     "execution_count": 19,
     "metadata": {},
     "output_type": "execute_result"
    }
   ],
   "source": [
    "data.shape"
   ]
  },
  {
   "cell_type": "code",
   "execution_count": 20,
   "id": "0e6fd419",
   "metadata": {},
   "outputs": [
    {
     "data": {
      "image/png": "[encoded data removed]",
      "text/plain": [
       "<Figure size 432x288 with 1 Axes>"
      ]
     },
     "metadata": {
      "needs_background": "light"
     },
     "output_type": "display_data"
    }
   ],
   "source": [
    "import matplotlib.pyplot as plt\n",
    "plt.scatter(data[\"Year\"],data[\"Value\"])\n",
    "plt.show()"
   ]
  },
  {
   "cell_type": "code",
   "execution_count": 21,
   "id": "95b025f7",
   "metadata": {},
   "outputs": [],
   "source": [
    "x=data[\"Year\"].values.reshape(-1,1)\n",
    "y=data[\"Value\"].values"
   ]
  },
  {
   "cell_type": "code",
   "execution_count": 22,
   "id": "7123e75e",
   "metadata": {},
   "outputs": [
    {
     "data": {
      "text/plain": [
       "LinearRegression()"
      ]
     },
     "execution_count": 22,
     "metadata": {},
     "output_type": "execute_result"
    }
   ],
   "source": [
    "from sklearn.preprocessing import PolynomialFeatures\n",
    "poly=PolynomialFeatures(degree=3)\n",
    "x_poly=poly.fit_transform(x)\n",
    "from sklearn.linear_model import LinearRegression\n",
    "model=LinearRegression()\n",
    "model.fit(x_poly,y)"
   ]
  },
  {
   "cell_type": "code",
   "execution_count": 23,
   "id": "ffc44a82",
   "metadata": {},
   "outputs": [],
   "source": [
    "y_pred=model.predict(x_poly)"
   ]
  },
  {
   "cell_type": "code",
   "execution_count": 24,
   "id": "9fddb2d5",
   "metadata": {},
   "outputs": [
    {
     "data": {
      "text/plain": [
       "96.45101048459287"
      ]
     },
     "execution_count": 24,
     "metadata": {},
     "output_type": "execute_result"
    }
   ],
   "source": [
    "r2_score(y,y_pred)*100"
   ]
  },
  {
   "cell_type": "code",
   "execution_count": 25,
   "id": "34c5eced",
   "metadata": {},
   "outputs": [
    {
     "data": {
      "text/plain": [
       "2.177936478244266e+23"
      ]
     },
     "execution_count": 25,
     "metadata": {},
     "output_type": "execute_result"
    }
   ],
   "source": [
    "mean_squared_error(y,y_pred)\n"
   ]
  },
  {
   "cell_type": "code",
   "execution_count": 26,
   "id": "9225a531",
   "metadata": {},
   "outputs": [
    {
     "data": {
      "image/png": "[encoded data removed]",
      "text/plain": [
       "<Figure size 432x288 with 1 Axes>"
      ]
     },
     "metadata": {
      "needs_background": "light"
     },
     "output_type": "display_data"
    }
   ],
   "source": [
    "plt.scatter(data[\"Year\"],data[\"Value\"],c=\"red\")\n",
    "plt.plot(x,y_pred,c=\"blue\")\n",
    "plt.show()"
   ]
  },
  {
   "cell_type": "code",
   "execution_count": 27,
   "id": "4da99f75",
   "metadata": {},
   "outputs": [],
   "source": [
    "acc=[]\n",
    "for i in range(2,20):\n",
    "    poly=PolynomialFeatures(degree=i)\n",
    "    x_poly=poly.fit_transform(x)\n",
    "    model=LinearRegression()\n",
    "    model.fit(x_poly,y)\n",
    "    y_pred=model.predict(x_poly)\n",
    "    acc.append(r2_score(y,y_pred)*100)"
   ]
  },
  {
   "cell_type": "code",
   "execution_count": 28,
   "id": "377b524c",
   "metadata": {},
   "outputs": [
    {
     "data": {
      "text/plain": [
       "[84.2444347417096,\n",
       " 96.45101048459287,\n",
       " 96.51202302090205,\n",
       " 96.57218086582708,\n",
       " 96.63149021264236,\n",
       " 96.68995728756254,\n",
       " 96.74758835406126,\n",
       " 96.80438971141378,\n",
       " 96.86036769387391,\n",
       " 96.91552866496001,\n",
       " 96.96987902240123,\n",
       " 97.02342519206792,\n",
       " 97.07617362680342,\n",
       " 97.12813080737925,\n",
       " 97.17930323891486,\n",
       " 97.22969745112191,\n",
       " 97.27931999522599,\n",
       " 97.32817744348183]"
      ]
     },
     "execution_count": 28,
     "metadata": {},
     "output_type": "execute_result"
    }
   ],
   "source": [
    "acc"
   ]
  },
  {
   "cell_type": "code",
   "execution_count": 29,
   "id": "535ac4d2",
   "metadata": {},
   "outputs": [
    {
     "data": {
      "image/png": "[encoded data removed]",
      "text/plain": [
       "<Figure size 432x288 with 1 Axes>"
      ]
     },
     "metadata": {
      "needs_background": "light"
     },
     "output_type": "display_data"
    }
   ],
   "source": [
    "import numpy as np\n",
    "plt.plot(np.arange(2,20),acc)\n",
    "plt.xlabel(\"Degree of polynomial features\")\n",
    "plt.ylabel('Accuracy')\n",
    "plt.show()"
   ]
  },
  {
   "cell_type": "code",
   "execution_count": null,
   "id": "6d17e575",
   "metadata": {},
   "outputs": [],
   "source": []
  }
 ],
 "metadata": {
  "kernelspec": {
   "display_name": "Python 3",
   "language": "python",
   "name": "python3"
  },
  "language_info": {
   "codemirror_mode": {
    "name": "ipython",
    "version": 3
   },
   "file_extension": ".py",
   "mimetype": "text/x-python",
   "name": "python",
   "nbconvert_exporter": "python",
   "pygments_lexer": "ipython3",
   "version": "3.8.8"
  }
 },
 "nbformat": 4,
 "nbformat_minor": 5
}
