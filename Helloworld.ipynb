{
 "cells": [
  {
   "cell_type": "code",
   "execution_count": 1,
   "id": "c98fa9d3",
   "metadata": {},
   "outputs": [
    {
     "name": "stdout",
     "output_type": "stream",
     "text": [
      "hello world\n"
     ]
    }
   ],
   "source": [
    "print(\"hello world\")"
   ]
  },
  {
   "cell_type": "markdown",
   "id": "65a60cf4",
   "metadata": {},
   "source": [
    "html->hyper text markup language\n",
    "Markdown"
   ]
  },
  {
   "cell_type": "markdown",
   "id": "770eb83b",
   "metadata": {},
   "source": [
    "## Shortcuts for jupiter Notebook\n",
    "\n",
    "1. ShiftEnter -> execution"
   ]
  },
  {
   "cell_type": "markdown",
   "id": "c85670eb",
   "metadata": {},
   "source": [
    "- python\n",
    "    + java"
   ]
  },
  {
   "cell_type": "code",
   "execution_count": null,
   "id": "b250617c",
   "metadata": {},
   "outputs": [],
   "source": []
  },
  {
   "cell_type": "code",
   "execution_count": null,
   "id": "d8f73b94",
   "metadata": {},
   "outputs": [],
   "source": []
  }
 ],
 "metadata": {
  "kernelspec": {
   "display_name": "Python 3",
   "language": "python",
   "name": "python3"
  },
  "language_info": {
   "codemirror_mode": {
    "name": "ipython",
    "version": 3
   },
   "file_extension": ".py",
   "mimetype": "text/x-python",
   "name": "python",
   "nbconvert_exporter": "python",
   "pygments_lexer": "ipython3",
   "version": "3.8.8"
  }
 },
 "nbformat": 4,
 "nbformat_minor": 5
}
