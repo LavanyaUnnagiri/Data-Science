{
 "cells": [
  {
   "cell_type": "code",
   "execution_count": null,
   "id": "99a46322",
   "metadata": {},
   "outputs": [],
   "source": [
    "# Sets"
   ]
  },
  {
   "cell_type": "markdown",
   "id": "b13811a6",
   "metadata": {},
   "source": [
    "- It is used for storing non-homogenous group of unique data on python\n",
    "\n",
    "### Properties\n",
    "\n",
    "- '{}' for storing the data in comma seperated\n",
    "- It is mutable data type\n",
    "- It is an unordered\n",
    "- we can't accessing the data from set using indexing\n",
    "- It is iteratable\n",
    "- It doesn't allow duplicated data"
   ]
  },
  {
   "cell_type": "code",
   "execution_count": 1,
   "id": "0f7b2660",
   "metadata": {},
   "outputs": [
    {
     "name": "stdout",
     "output_type": "stream",
     "text": [
      "<class 'set'>\n"
     ]
    }
   ],
   "source": [
    "s1=set()\n",
    "\n",
    "print(type(s1))"
   ]
  },
  {
   "cell_type": "code",
   "execution_count": 2,
   "id": "ae104b85",
   "metadata": {},
   "outputs": [
    {
     "name": "stdout",
     "output_type": "stream",
     "text": [
      "<class 'set'>\n"
     ]
    }
   ],
   "source": [
    "s1={2,1,5,6,'Python',2.44,89,0.26}\n",
    "print(type(s1))"
   ]
  },
  {
   "cell_type": "code",
   "execution_count": 3,
   "id": "de9ed4eb",
   "metadata": {},
   "outputs": [
    {
     "name": "stdout",
     "output_type": "stream",
     "text": [
      "{0.26, 1, 2, 2.44, 5, 6, 'Python', 89}\n"
     ]
    }
   ],
   "source": [
    "print(s1)"
   ]
  },
  {
   "cell_type": "code",
   "execution_count": 4,
   "id": "b9b39cd0",
   "metadata": {},
   "outputs": [
    {
     "name": "stdout",
     "output_type": "stream",
     "text": [
      "{1, 2, 3, 4}\n"
     ]
    }
   ],
   "source": [
    "s2={1,2,3,4,4,3,2,1}\n",
    "\n",
    "print(s2)"
   ]
  },
  {
   "cell_type": "code",
   "execution_count": 5,
   "id": "431eb714",
   "metadata": {},
   "outputs": [],
   "source": [
    "st=\"\"\"Python is an interpreted high-level general-purpose programming language. Python's design philosophy emphasizes code readability with its notable use of significant indentation. Its language constructs as well as its object-oriented approach aim to help\"\"\""
   ]
  },
  {
   "cell_type": "code",
   "execution_count": 8,
   "id": "7aeea796",
   "metadata": {},
   "outputs": [
    {
     "name": "stdout",
     "output_type": "stream",
     "text": [
      "{'P': 2, 'y': 4, 't': 18, 'h': 10, 'o': 15, 'n': 17, ' ': 32, 'i': 19, 's': 16, 'a': 18, 'e': 23, 'r': 10, 'p': 10, 'd': 6, 'g': 10, '-': 3, 'l': 11, 'v': 1, 'u': 5, 'm': 4, '.': 2, \"'\": 1, 'z': 1, 'c': 6, 'b': 3, 'w': 2, 'f': 2, 'I': 1, 'j': 1}\n"
     ]
    }
   ],
   "source": [
    "c={}\n",
    "\n",
    "for char in st:\n",
    "    c[char]=st.count(char)\n",
    "print(c)"
   ]
  },
  {
   "cell_type": "code",
   "execution_count": 9,
   "id": "5aba3b94",
   "metadata": {},
   "outputs": [
    {
     "name": "stdout",
     "output_type": "stream",
     "text": [
      "253\n"
     ]
    }
   ],
   "source": [
    "print(len(st))"
   ]
  },
  {
   "cell_type": "code",
   "execution_count": 10,
   "id": "b2fba67f",
   "metadata": {},
   "outputs": [
    {
     "name": "stdout",
     "output_type": "stream",
     "text": [
      "29\n"
     ]
    }
   ],
   "source": [
    "print(len(c))"
   ]
  },
  {
   "cell_type": "code",
   "execution_count": 11,
   "id": "7bea33f8",
   "metadata": {},
   "outputs": [
    {
     "name": "stdout",
     "output_type": "stream",
     "text": [
      "{'h', 'p', 'z', 'm', 'o', 'n', 's', 'j', 'u', 'a', '-', 'e', 'g', 'c', 'I', 'b', 'f', 'l', ' ', 'v', 'i', 'r', 'w', 'P', '.', 'd', 'y', \"'\", 't'}\n"
     ]
    }
   ],
   "source": [
    "s3=set(st)\n",
    "print(s3)"
   ]
  },
  {
   "cell_type": "code",
   "execution_count": 12,
   "id": "b5ffe8c2",
   "metadata": {},
   "outputs": [
    {
     "name": "stdout",
     "output_type": "stream",
     "text": [
      "29\n"
     ]
    }
   ],
   "source": [
    "print(len(s3))"
   ]
  },
  {
   "cell_type": "code",
   "execution_count": 13,
   "id": "734c56b5",
   "metadata": {},
   "outputs": [
    {
     "name": "stdout",
     "output_type": "stream",
     "text": [
      "['Python', 'is', 'an', 'interpreted', 'high-level', 'general-purpose', 'programming', 'language.', \"Python's\", 'design', 'philosophy', 'emphasizes', 'code', 'readability', 'with', 'its', 'notable', 'use', 'of', 'significant', 'indentation.', 'Its', 'language', 'constructs', 'as', 'well', 'as', 'its', 'object-oriented', 'approach', 'aim', 'to', 'help']\n"
     ]
    }
   ],
   "source": [
    "sli=st.split()\n",
    "\n",
    "print(sli)"
   ]
  },
  {
   "cell_type": "code",
   "execution_count": 14,
   "id": "0e5a44c0",
   "metadata": {},
   "outputs": [
    {
     "name": "stdout",
     "output_type": "stream",
     "text": [
      "33\n"
     ]
    }
   ],
   "source": [
    "print(len(sli))"
   ]
  },
  {
   "cell_type": "code",
   "execution_count": 15,
   "id": "88925930",
   "metadata": {},
   "outputs": [
    {
     "name": "stdout",
     "output_type": "stream",
     "text": [
      "{'is', 'object-oriented', 'high-level', \"Python's\", 'philosophy', 'code', 'its', 'well', 'approach', 'emphasizes', 'notable', 'to', 'aim', 'language', 'of', 'general-purpose', 'Python', 'design', 'interpreted', 'language.', 'as', 'readability', 'an', 'with', 'Its', 'programming', 'indentation.', 'use', 'constructs', 'significant', 'help'} 31\n"
     ]
    }
   ],
   "source": [
    "ssli=set(sli)\n",
    "\n",
    "print(ssli,len(ssli))"
   ]
  },
  {
   "cell_type": "code",
   "execution_count": 16,
   "id": "30281364",
   "metadata": {},
   "outputs": [
    {
     "name": "stdout",
     "output_type": "stream",
     "text": [
      "['is', 'object-oriented', 'high-level', \"Python's\", 'philosophy', 'code', 'its', 'well', 'approach', 'emphasizes', 'notable', 'to', 'aim', 'language', 'of', 'general-purpose', 'Python', 'design', 'interpreted', 'language.', 'as', 'readability', 'an', 'with', 'Its', 'programming', 'indentation.', 'use', 'constructs', 'significant', 'help']\n"
     ]
    }
   ],
   "source": [
    "print(list(ssli))"
   ]
  },
  {
   "cell_type": "code",
   "execution_count": 17,
   "id": "80c525e1",
   "metadata": {},
   "outputs": [
    {
     "name": "stdout",
     "output_type": "stream",
     "text": [
      "('is', 'object-oriented', 'high-level', \"Python's\", 'philosophy', 'code', 'its', 'well', 'approach', 'emphasizes', 'notable', 'to', 'aim', 'language', 'of', 'general-purpose', 'Python', 'design', 'interpreted', 'language.', 'as', 'readability', 'an', 'with', 'Its', 'programming', 'indentation.', 'use', 'constructs', 'significant', 'help')\n"
     ]
    }
   ],
   "source": [
    "print(tuple(ssli))"
   ]
  },
  {
   "cell_type": "code",
   "execution_count": 18,
   "id": "4e0d8d7b",
   "metadata": {},
   "outputs": [
    {
     "name": "stdout",
     "output_type": "stream",
     "text": [
      "{'is', 'object-oriented', 'high-level', \"Python's\", 'philosophy', 'code', 'its', 'well', 'approach', 'emphasizes', 'notable', 'to', 'aim', 'language', 'of', 'general-purpose', 'Python', 'design', 'interpreted', 'language.', 'as', 'readability', 'an', 'with', 'Its', 'programming', 'indentation.', 'use', 'constructs', 'significant', 'help'}\n"
     ]
    }
   ],
   "source": [
    "print(str(ssli))"
   ]
  },
  {
   "cell_type": "markdown",
   "id": "39dd10b6",
   "metadata": {},
   "source": [
    "### Set Methods"
   ]
  },
  {
   "cell_type": "code",
   "execution_count": 19,
   "id": "1b878d03",
   "metadata": {},
   "outputs": [],
   "source": [
    "se=set()"
   ]
  },
  {
   "cell_type": "code",
   "execution_count": 20,
   "id": "4588ea3b",
   "metadata": {},
   "outputs": [
    {
     "name": "stdout",
     "output_type": "stream",
     "text": [
      "set()\n"
     ]
    }
   ],
   "source": [
    "print(se)"
   ]
  },
  {
   "cell_type": "code",
   "execution_count": 21,
   "id": "a03b82b9",
   "metadata": {},
   "outputs": [],
   "source": [
    "se.add(123)\n",
    "se.add(2)\n",
    "se.add(0.5)"
   ]
  },
  {
   "cell_type": "code",
   "execution_count": 22,
   "id": "b70ccef2",
   "metadata": {},
   "outputs": [
    {
     "name": "stdout",
     "output_type": "stream",
     "text": [
      "5645\n"
     ]
    }
   ],
   "source": [
    "se.add(input())"
   ]
  },
  {
   "cell_type": "code",
   "execution_count": 23,
   "id": "33137659",
   "metadata": {},
   "outputs": [
    {
     "name": "stdout",
     "output_type": "stream",
     "text": [
      "{0.5, 2, 123, '5645'}\n"
     ]
    }
   ],
   "source": [
    "print(se)"
   ]
  },
  {
   "cell_type": "code",
   "execution_count": 27,
   "id": "bf0f9f22",
   "metadata": {},
   "outputs": [
    {
     "name": "stdout",
     "output_type": "stream",
     "text": [
      "{0.5, 1, 2, 3, 4, (1, 2, 3), '5645', 123}\n"
     ]
    }
   ],
   "source": [
    "se.add((1,2,3))\n",
    "print(se)"
   ]
  },
  {
   "cell_type": "code",
   "execution_count": 26,
   "id": "2e84f098",
   "metadata": {},
   "outputs": [
    {
     "name": "stdout",
     "output_type": "stream",
     "text": [
      "{0.5, 1, 2, 3, 4, '5645', 123}\n"
     ]
    }
   ],
   "source": [
    "se.update({1,2,3,4})\n",
    "print(se)"
   ]
  },
  {
   "cell_type": "code",
   "execution_count": 28,
   "id": "7ca27860",
   "metadata": {},
   "outputs": [
    {
     "name": "stdout",
     "output_type": "stream",
     "text": [
      "0.5\n",
      "{1, 2, 3, 4, (1, 2, 3), '5645', 123}\n"
     ]
    }
   ],
   "source": [
    "print(se.pop())\n",
    "\n",
    "print(se)"
   ]
  },
  {
   "cell_type": "code",
   "execution_count": 29,
   "id": "c98c4b54",
   "metadata": {},
   "outputs": [
    {
     "name": "stdout",
     "output_type": "stream",
     "text": [
      "{1, 2, 3, 4, '5645', 123}\n"
     ]
    }
   ],
   "source": [
    "se.remove((1,2,3))\n",
    "\n",
    "print(se)"
   ]
  },
  {
   "cell_type": "code",
   "execution_count": 31,
   "id": "e474b791",
   "metadata": {},
   "outputs": [
    {
     "name": "stdout",
     "output_type": "stream",
     "text": [
      "None {1, 2, 3, 4, '5645', 123}\n"
     ]
    }
   ],
   "source": [
    "x=se.discard(5645)\n",
    "\n",
    "print(x,se)"
   ]
  },
  {
   "cell_type": "code",
   "execution_count": 33,
   "id": "9e77d384",
   "metadata": {},
   "outputs": [
    {
     "name": "stdout",
     "output_type": "stream",
     "text": [
      "{1, 2, 3, 4, '5645', 123}\n"
     ]
    }
   ],
   "source": [
    "se2=se.copy()\n",
    "print(se2)\n",
    "\n"
   ]
  },
  {
   "cell_type": "markdown",
   "id": "a5224f42",
   "metadata": {},
   "source": [
    "### Math Sets\n",
    "- Union\n",
    "- Intersection"
   ]
  },
  {
   "cell_type": "code",
   "execution_count": 34,
   "id": "18744e19",
   "metadata": {},
   "outputs": [
    {
     "name": "stdout",
     "output_type": "stream",
     "text": [
      "{1, 2, 3, 4, 5, 6, 7, 8, 9}\n"
     ]
    }
   ],
   "source": [
    "s1={1,2,3,4,5,6}\n",
    "s1={4,5,6,7,8,9}\n",
    "\n",
    "print(s1.union(s2))"
   ]
  },
  {
   "cell_type": "code",
   "execution_count": 35,
   "id": "2a05fa57",
   "metadata": {},
   "outputs": [
    {
     "name": "stdout",
     "output_type": "stream",
     "text": [
      "{1, 2, 3, 4, 5, 6, 7, 8, 9}\n"
     ]
    }
   ],
   "source": [
    "print(s1|s2)"
   ]
  },
  {
   "cell_type": "code",
   "execution_count": 36,
   "id": "442707dc",
   "metadata": {},
   "outputs": [
    {
     "name": "stdout",
     "output_type": "stream",
     "text": [
      "{4}\n"
     ]
    }
   ],
   "source": [
    "print(s1.intersection(s2))"
   ]
  },
  {
   "cell_type": "code",
   "execution_count": 37,
   "id": "8ef486f8",
   "metadata": {},
   "outputs": [
    {
     "name": "stdout",
     "output_type": "stream",
     "text": [
      "{4}\n"
     ]
    }
   ],
   "source": [
    "print(s1&s2)"
   ]
  },
  {
   "cell_type": "code",
   "execution_count": 38,
   "id": "d25ac8d1",
   "metadata": {},
   "outputs": [
    {
     "name": "stdout",
     "output_type": "stream",
     "text": [
      "{5, 6, 7, 8, 9}\n"
     ]
    }
   ],
   "source": [
    "print(s1.difference(s2))"
   ]
  },
  {
   "cell_type": "code",
   "execution_count": 39,
   "id": "dc61c067",
   "metadata": {},
   "outputs": [
    {
     "name": "stdout",
     "output_type": "stream",
     "text": [
      "{5, 6, 7, 8, 9}\n"
     ]
    }
   ],
   "source": [
    "print(s1-s2)"
   ]
  },
  {
   "cell_type": "code",
   "execution_count": 40,
   "id": "ebb35a7b",
   "metadata": {},
   "outputs": [
    {
     "name": "stdout",
     "output_type": "stream",
     "text": [
      "{1, 2, 3}\n"
     ]
    }
   ],
   "source": [
    "print(s2-s1)"
   ]
  },
  {
   "cell_type": "code",
   "execution_count": 41,
   "id": "eddb763e",
   "metadata": {},
   "outputs": [
    {
     "name": "stdout",
     "output_type": "stream",
     "text": [
      "{1, 2, 3, 5, 6, 7, 8, 9}\n"
     ]
    }
   ],
   "source": [
    "print(s1.symmetric_difference(s2))"
   ]
  },
  {
   "cell_type": "code",
   "execution_count": 42,
   "id": "a911fa05",
   "metadata": {},
   "outputs": [
    {
     "name": "stdout",
     "output_type": "stream",
     "text": [
      "{1, 2, 3, 5, 6, 7, 8, 9}\n"
     ]
    }
   ],
   "source": [
    "print(s1^s2)"
   ]
  },
  {
   "cell_type": "markdown",
   "id": "f638e1d8",
   "metadata": {},
   "source": [
    "### Functions in Python\n",
    "   - Built-in Functions -> print(),input(),min(),max(),type()\n",
    "                           id(),len(),range(),sorted(),reversed()\n",
    "   - User Defined Functions\n",
    "  set of instructions given by user to perform a task\n",
    "     - It reduces code to perform single related action\n",
    "     - Reduces time complexity,memory"
   ]
  },
  {
   "cell_type": "code",
   "execution_count": 43,
   "id": "17337b7a",
   "metadata": {},
   "outputs": [
    {
     "name": "stdout",
     "output_type": "stream",
     "text": [
      "5\n"
     ]
    }
   ],
   "source": [
    "print(abs(-5))"
   ]
  },
  {
   "cell_type": "code",
   "execution_count": 45,
   "id": "580039dc",
   "metadata": {},
   "outputs": [
    {
     "name": "stdout",
     "output_type": "stream",
     "text": [
      "True False\n"
     ]
    }
   ],
   "source": [
    "li=[1,2,3,4,5,6]\n",
    "li2=[1,2,3,4,5,6,0]\n",
    "\n",
    "print(all(li),all(li2))"
   ]
  },
  {
   "cell_type": "code",
   "execution_count": 46,
   "id": "f60b1a2a",
   "metadata": {},
   "outputs": [
    {
     "name": "stdout",
     "output_type": "stream",
     "text": [
      "True True False\n"
     ]
    }
   ],
   "source": [
    "li=[1,2,3,4,5]\n",
    "li2=[0,0,0,0,0,0,0,1]\n",
    "li3=[0,0,0,0,0]\n",
    "print(any(li),any(li2),any(li3))"
   ]
  },
  {
   "cell_type": "code",
   "execution_count": 47,
   "id": "5a1ff815",
   "metadata": {},
   "outputs": [
    {
     "name": "stdout",
     "output_type": "stream",
     "text": [
      "False\n"
     ]
    }
   ],
   "source": [
    "print(all([1,2,3,'']))"
   ]
  },
  {
   "cell_type": "code",
   "execution_count": 51,
   "id": "5c5af12f",
   "metadata": {},
   "outputs": [
    {
     "data": {
      "text/plain": [
       "['__add__',\n",
       " '__class__',\n",
       " '__contains__',\n",
       " '__delattr__',\n",
       " '__delitem__',\n",
       " '__dir__',\n",
       " '__doc__',\n",
       " '__eq__',\n",
       " '__format__',\n",
       " '__ge__',\n",
       " '__getattribute__',\n",
       " '__getitem__',\n",
       " '__gt__',\n",
       " '__hash__',\n",
       " '__iadd__',\n",
       " '__imul__',\n",
       " '__init__',\n",
       " '__init_subclass__',\n",
       " '__iter__',\n",
       " '__le__',\n",
       " '__len__',\n",
       " '__lt__',\n",
       " '__mul__',\n",
       " '__ne__',\n",
       " '__new__',\n",
       " '__reduce__',\n",
       " '__reduce_ex__',\n",
       " '__repr__',\n",
       " '__reversed__',\n",
       " '__rmul__',\n",
       " '__setattr__',\n",
       " '__setitem__',\n",
       " '__sizeof__',\n",
       " '__str__',\n",
       " '__subclasshook__',\n",
       " 'append',\n",
       " 'clear',\n",
       " 'copy',\n",
       " 'count',\n",
       " 'extend',\n",
       " 'index',\n",
       " 'insert',\n",
       " 'pop',\n",
       " 'remove',\n",
       " 'reverse',\n",
       " 'sort']"
      ]
     },
     "execution_count": 51,
     "metadata": {},
     "output_type": "execute_result"
    }
   ],
   "source": [
    "dir(list)"
   ]
  },
  {
   "cell_type": "code",
   "execution_count": 52,
   "id": "25307f53",
   "metadata": {},
   "outputs": [
    {
     "name": "stdout",
     "output_type": "stream",
     "text": [
      "str(object='') -> str\n",
      "str(bytes_or_buffer[, encoding[, errors]]) -> str\n",
      "\n",
      "Create a new string object from the given object. If encoding or\n",
      "errors is specified, then the object must expose a data buffer\n",
      "that will be decoded using the given encoding and error handler.\n",
      "Otherwise, returns the result of object.__str__() (if defined)\n",
      "or repr(object).\n",
      "encoding defaults to sys.getdefaultencoding().\n",
      "errors defaults to 'strict'.\n"
     ]
    }
   ],
   "source": [
    "print(str.__doc__)"
   ]
  },
  {
   "cell_type": "code",
   "execution_count": 53,
   "id": "a2dc89b6",
   "metadata": {},
   "outputs": [
    {
     "name": "stdout",
     "output_type": "stream",
     "text": [
      "S.count(sub[, start[, end]]) -> int\n",
      "\n",
      "Return the number of non-overlapping occurrences of substring sub in\n",
      "string S[start:end].  Optional arguments start and end are\n",
      "interpreted as in slice notation.\n"
     ]
    }
   ],
   "source": [
    "print(str.count.__doc__)"
   ]
  },
  {
   "cell_type": "code",
   "execution_count": 54,
   "id": "50dc22fa",
   "metadata": {},
   "outputs": [
    {
     "name": "stdout",
     "output_type": "stream",
     "text": [
      "<zip object at 0x000001B8EEA33440>\n"
     ]
    }
   ],
   "source": [
    "li=[1,2,3,4]\n",
    "li2=[5,6,7,8]\n",
    "\n",
    "li3=zip(li,li2)\n",
    "\n",
    "print(li3)"
   ]
  },
  {
   "cell_type": "code",
   "execution_count": 55,
   "id": "da68d339",
   "metadata": {},
   "outputs": [
    {
     "name": "stdout",
     "output_type": "stream",
     "text": [
      "[(1, 5), (2, 6), (3, 7), (4, 8)]\n"
     ]
    }
   ],
   "source": [
    "li3=list(li3)\n",
    "print(li3)"
   ]
  },
  {
   "cell_type": "code",
   "execution_count": 57,
   "id": "3e2ab052",
   "metadata": {},
   "outputs": [
    {
     "name": "stdout",
     "output_type": "stream",
     "text": [
      "<enumerate object at 0x000001B8EEA55840>\n"
     ]
    }
   ],
   "source": [
    "print(enumerate(li))\n",
    "\n"
   ]
  },
  {
   "cell_type": "code",
   "execution_count": 58,
   "id": "f0cb1625",
   "metadata": {},
   "outputs": [
    {
     "name": "stdout",
     "output_type": "stream",
     "text": [
      "[(0, 1), (1, 2), (2, 3), (3, 4)]\n"
     ]
    }
   ],
   "source": [
    "en=list(enumerate(li))\n",
    "print(en)"
   ]
  },
  {
   "cell_type": "markdown",
   "id": "8b64ebc1",
   "metadata": {},
   "source": [
    "### Built-in functions\n",
    "\n",
    "#### Syntax\n",
    "\n",
    "'''python\n",
    "\n",
    "def function_name(arg1,arg2,.......,argn): # arg are optional\n",
    "      \"\"\"Document for function\"\"\" #optional\n",
    "      Block of code\n",
    "      \n",
    "      return result # return is optional\n",
    "'''\n",
    "\n",
    "\n",
    "### Types of Functions\n",
    "\n",
    "1. Based on arguments\n",
    "     1. Positional argument\n",
    "     2. Keyword argument\n",
    "     3. Default argument\n",
    "     4. Variable length argument\n",
    "2. Based on return and arguments\n",
    "     1. With arg and with return\n",
    "     2. Without arg and with return\n",
    "     3. With arg and without return\n",
    "     4. Without arg and without return\n",
    "3. Call by Value\n",
    "4. Call by reference\n",
    "5. Recursive Functions"
   ]
  },
  {
   "cell_type": "code",
   "execution_count": 59,
   "id": "70954970",
   "metadata": {},
   "outputs": [],
   "source": [
    "# with arg with return\n",
    "def addition(a,b):\n",
    "    print(a)\n",
    "    print(b)\n",
    "    return a+b"
   ]
  },
  {
   "cell_type": "code",
   "execution_count": 60,
   "id": "a23f2c8a",
   "metadata": {},
   "outputs": [
    {
     "name": "stdout",
     "output_type": "stream",
     "text": [
      "15\n",
      "20\n"
     ]
    },
    {
     "data": {
      "text/plain": [
       "35"
      ]
     },
     "execution_count": 60,
     "metadata": {},
     "output_type": "execute_result"
    }
   ],
   "source": [
    "addition(15,20) # function calling"
   ]
  },
  {
   "cell_type": "code",
   "execution_count": 61,
   "id": "359bd8a4",
   "metadata": {},
   "outputs": [],
   "source": [
    "def greet():\n",
    "    return \"Good evning all\""
   ]
  },
  {
   "cell_type": "code",
   "execution_count": 62,
   "id": "bdf53ffc",
   "metadata": {},
   "outputs": [
    {
     "data": {
      "text/plain": [
       "'Good evning all'"
      ]
     },
     "execution_count": 62,
     "metadata": {},
     "output_type": "execute_result"
    }
   ],
   "source": [
    "greet()"
   ]
  },
  {
   "cell_type": "code",
   "execution_count": 64,
   "id": "27381bdb",
   "metadata": {},
   "outputs": [
    {
     "name": "stdout",
     "output_type": "stream",
     "text": [
      "121\n"
     ]
    }
   ],
   "source": [
    "def square(a):\n",
    "    return a**2\n",
    "\n",
    "print(square(5) + square(6) + 2*5*6)"
   ]
  },
  {
   "cell_type": "markdown",
   "id": "01356e0b",
   "metadata": {},
   "source": [
    "### Required Arguments"
   ]
  },
  {
   "cell_type": "code",
   "execution_count": 68,
   "id": "3ca43f84",
   "metadata": {},
   "outputs": [],
   "source": [
    "def addition(a,b):\n",
    "    print(a)\n",
    "    print(b)\n",
    "    print(a+b)"
   ]
  },
  {
   "cell_type": "code",
   "execution_count": 67,
   "id": "877aa0b5",
   "metadata": {},
   "outputs": [
    {
     "name": "stdout",
     "output_type": "stream",
     "text": [
      "5\n",
      "5\n",
      "10\n"
     ]
    }
   ],
   "source": [
    "addition(5,5)"
   ]
  },
  {
   "cell_type": "code",
   "execution_count": 69,
   "id": "875f69e3",
   "metadata": {},
   "outputs": [],
   "source": [
    "def addition(a,b):\n",
    "    return(a+b)\n",
    "    print(a+b)\n",
    "    print(a,b)"
   ]
  },
  {
   "cell_type": "code",
   "execution_count": 70,
   "id": "ee8bcadb",
   "metadata": {},
   "outputs": [],
   "source": [
    "add =addition(5,5)"
   ]
  },
  {
   "cell_type": "code",
   "execution_count": 71,
   "id": "fc65544f",
   "metadata": {},
   "outputs": [
    {
     "name": "stdout",
     "output_type": "stream",
     "text": [
      "10\n"
     ]
    }
   ],
   "source": [
    "print(add)"
   ]
  },
  {
   "cell_type": "code",
   "execution_count": 75,
   "id": "9162ab5a",
   "metadata": {},
   "outputs": [],
   "source": [
    "def addition(a,b):\n",
    "    print(a+b,b+a,a**b)\n",
    "    print(a+b)\n",
    "    print(a,b)"
   ]
  },
  {
   "cell_type": "code",
   "execution_count": 76,
   "id": "7640b309",
   "metadata": {},
   "outputs": [
    {
     "name": "stdout",
     "output_type": "stream",
     "text": [
      "10 10 3125\n",
      "10\n",
      "5 5\n"
     ]
    }
   ],
   "source": [
    "add=addition(5,5)"
   ]
  },
  {
   "cell_type": "markdown",
   "id": "6620e479",
   "metadata": {},
   "source": [
    "### Default Argument"
   ]
  },
  {
   "cell_type": "code",
   "execution_count": 77,
   "id": "b65bbafc",
   "metadata": {},
   "outputs": [],
   "source": [
    "def addition(a,b =0):\n",
    "    return a+b"
   ]
  },
  {
   "cell_type": "code",
   "execution_count": 78,
   "id": "a48fa95d",
   "metadata": {},
   "outputs": [
    {
     "name": "stdout",
     "output_type": "stream",
     "text": [
      "15\n",
      "5\n"
     ]
    }
   ],
   "source": [
    "print(addition(5,10))\n",
    "print(addition(5))"
   ]
  },
  {
   "cell_type": "code",
   "execution_count": 79,
   "id": "d64037ac",
   "metadata": {},
   "outputs": [
    {
     "name": "stdout",
     "output_type": "stream",
     "text": [
      "range(0, 5)\n"
     ]
    }
   ],
   "source": [
    "print(range(5))"
   ]
  },
  {
   "cell_type": "markdown",
   "id": "ec4a1706",
   "metadata": {},
   "source": [
    "### Keyword arguments"
   ]
  },
  {
   "cell_type": "code",
   "execution_count": 80,
   "id": "10558eb0",
   "metadata": {},
   "outputs": [],
   "source": [
    "def addition(a,b):\n",
    "    return a+b"
   ]
  },
  {
   "cell_type": "code",
   "execution_count": 82,
   "id": "29f58711",
   "metadata": {},
   "outputs": [
    {
     "name": "stdout",
     "output_type": "stream",
     "text": [
      "abcdef\n",
      "defabc\n"
     ]
    }
   ],
   "source": [
    "print(addition(a='abc',b='def'))\n",
    "print(addition(b='abc',a='def'))"
   ]
  },
  {
   "cell_type": "code",
   "execution_count": null,
   "id": "bc7d03d6",
   "metadata": {},
   "outputs": [],
   "source": []
  }
 ],
 "metadata": {
  "kernelspec": {
   "display_name": "Python 3",
   "language": "python",
   "name": "python3"
  },
  "language_info": {
   "codemirror_mode": {
    "name": "ipython",
    "version": 3
   },
   "file_extension": ".py",
   "mimetype": "text/x-python",
   "name": "python",
   "nbconvert_exporter": "python",
   "pygments_lexer": "ipython3",
   "version": "3.8.8"
  }
 },
 "nbformat": 4,
 "nbformat_minor": 5
}
