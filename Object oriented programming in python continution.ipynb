{
 "cells": [
  {
   "cell_type": "markdown",
   "id": "e1c34daa",
   "metadata": {},
   "source": [
    "- Inheritance\n",
    "- Data Encapsulation\n",
    "- Polymorphism"
   ]
  },
  {
   "cell_type": "code",
   "execution_count": 2,
   "id": "265d215b",
   "metadata": {},
   "outputs": [],
   "source": [
    "class parent:\n",
    "    def f1(self):\n",
    "        print(\"In parent class\")\n",
    "class child(parent):\n",
    "    def f2(self):\n",
    "        print(\"In child class\")\n"
   ]
  },
  {
   "cell_type": "code",
   "execution_count": 3,
   "id": "d251b314",
   "metadata": {},
   "outputs": [
    {
     "data": {
      "text/plain": [
       "['__class__',\n",
       " '__delattr__',\n",
       " '__dict__',\n",
       " '__dir__',\n",
       " '__doc__',\n",
       " '__eq__',\n",
       " '__format__',\n",
       " '__ge__',\n",
       " '__getattribute__',\n",
       " '__gt__',\n",
       " '__hash__',\n",
       " '__init__',\n",
       " '__init_subclass__',\n",
       " '__le__',\n",
       " '__lt__',\n",
       " '__module__',\n",
       " '__ne__',\n",
       " '__new__',\n",
       " '__reduce__',\n",
       " '__reduce_ex__',\n",
       " '__repr__',\n",
       " '__setattr__',\n",
       " '__sizeof__',\n",
       " '__str__',\n",
       " '__subclasshook__',\n",
       " '__weakref__',\n",
       " 'f1',\n",
       " 'f2']"
      ]
     },
     "execution_count": 3,
     "metadata": {},
     "output_type": "execute_result"
    }
   ],
   "source": [
    "dir(child)\n",
    "        "
   ]
  },
  {
   "cell_type": "code",
   "execution_count": 4,
   "id": "3b1c2bac",
   "metadata": {},
   "outputs": [],
   "source": [
    "obj=child()"
   ]
  },
  {
   "cell_type": "code",
   "execution_count": 5,
   "id": "51b80b42",
   "metadata": {},
   "outputs": [
    {
     "name": "stdout",
     "output_type": "stream",
     "text": [
      "In parent class\n"
     ]
    }
   ],
   "source": [
    "obj.f1()"
   ]
  },
  {
   "cell_type": "code",
   "execution_count": 6,
   "id": "3302b8f1",
   "metadata": {},
   "outputs": [
    {
     "name": "stdout",
     "output_type": "stream",
     "text": [
      "In child class\n"
     ]
    }
   ],
   "source": [
    "obj.f2()"
   ]
  },
  {
   "cell_type": "markdown",
   "id": "8ed1a553",
   "metadata": {},
   "source": [
    "### Types of Inheritance\n",
    "- Single Inheritance\n",
    "- Multiple Inheritance\n",
    "- Multi-level Inheritance\n",
    "- Hierarchical Inheritance\n",
    "- Hybrid Inheritance"
   ]
  },
  {
   "cell_type": "code",
   "execution_count": 8,
   "id": "026d2c47",
   "metadata": {},
   "outputs": [
    {
     "name": "stdout",
     "output_type": "stream",
     "text": [
      "In child class\n",
      "In parent class\n"
     ]
    }
   ],
   "source": [
    "## Singlle inheritance\n",
    "class parent:\n",
    "    def f1(self):\n",
    "        print(\"In parent class\")\n",
    "class child(parent):\n",
    "    def f2(self):\n",
    "        print(\"In child class\")\n",
    "x=child()\n",
    "x.f2()\n",
    "x.f1()"
   ]
  },
  {
   "cell_type": "markdown",
   "id": "dd111f4a",
   "metadata": {},
   "source": [
    "### Multiple Inheritance"
   ]
  },
  {
   "cell_type": "code",
   "execution_count": 18,
   "id": "4d8e717c",
   "metadata": {},
   "outputs": [],
   "source": [
    "class A:\n",
    "    def f1(self):\n",
    "        print(\"class A function f1\")\n",
    "class B:\n",
    "    def f2(self):\n",
    "        print(\"class B function f2\")\n",
    "class C(A,B):\n",
    "    def f3(self):\n",
    "        print(\"class C function f3\")\n",
    "obj=C()"
   ]
  },
  {
   "cell_type": "code",
   "execution_count": 19,
   "id": "d4675c49",
   "metadata": {},
   "outputs": [
    {
     "data": {
      "text/plain": [
       "['__class__',\n",
       " '__delattr__',\n",
       " '__dict__',\n",
       " '__dir__',\n",
       " '__doc__',\n",
       " '__eq__',\n",
       " '__format__',\n",
       " '__ge__',\n",
       " '__getattribute__',\n",
       " '__gt__',\n",
       " '__hash__',\n",
       " '__init__',\n",
       " '__init_subclass__',\n",
       " '__le__',\n",
       " '__lt__',\n",
       " '__module__',\n",
       " '__ne__',\n",
       " '__new__',\n",
       " '__reduce__',\n",
       " '__reduce_ex__',\n",
       " '__repr__',\n",
       " '__setattr__',\n",
       " '__sizeof__',\n",
       " '__str__',\n",
       " '__subclasshook__',\n",
       " '__weakref__',\n",
       " 'f1',\n",
       " 'f2',\n",
       " 'f3']"
      ]
     },
     "execution_count": 19,
     "metadata": {},
     "output_type": "execute_result"
    }
   ],
   "source": [
    "dir(obj)"
   ]
  },
  {
   "cell_type": "code",
   "execution_count": 12,
   "id": "b97b8e77",
   "metadata": {},
   "outputs": [
    {
     "name": "stdout",
     "output_type": "stream",
     "text": [
      "In child class\n"
     ]
    }
   ],
   "source": [
    "obj.f2()"
   ]
  },
  {
   "cell_type": "code",
   "execution_count": 13,
   "id": "2f9abfea",
   "metadata": {},
   "outputs": [
    {
     "name": "stdout",
     "output_type": "stream",
     "text": [
      "In parent class\n"
     ]
    }
   ],
   "source": [
    "obj.f1()"
   ]
  },
  {
   "cell_type": "code",
   "execution_count": 20,
   "id": "3874aad4",
   "metadata": {},
   "outputs": [
    {
     "name": "stdout",
     "output_type": "stream",
     "text": [
      "class C function f3\n"
     ]
    }
   ],
   "source": [
    "obj.f3()"
   ]
  },
  {
   "cell_type": "markdown",
   "id": "7771c68d",
   "metadata": {},
   "source": [
    "### Multi-level Inheritance"
   ]
  },
  {
   "cell_type": "code",
   "execution_count": 24,
   "id": "165b4ba3",
   "metadata": {},
   "outputs": [],
   "source": [
    "class grandparent:\n",
    "    def f1(self):\n",
    "        print(\"class A function f1\")\n",
    "class parent(grandparent):\n",
    "    def f2(self):\n",
    "        print(\"class B function f2\")\n",
    "class child(parent):\n",
    "    def f3(self):\n",
    "        print(\"class C function f3\")\n",
    "yy=child()\n",
    "        "
   ]
  },
  {
   "cell_type": "code",
   "execution_count": 26,
   "id": "e42ccd3a",
   "metadata": {},
   "outputs": [
    {
     "data": {
      "text/plain": [
       "['__class__',\n",
       " '__delattr__',\n",
       " '__dict__',\n",
       " '__dir__',\n",
       " '__doc__',\n",
       " '__eq__',\n",
       " '__format__',\n",
       " '__ge__',\n",
       " '__getattribute__',\n",
       " '__gt__',\n",
       " '__hash__',\n",
       " '__init__',\n",
       " '__init_subclass__',\n",
       " '__le__',\n",
       " '__lt__',\n",
       " '__module__',\n",
       " '__ne__',\n",
       " '__new__',\n",
       " '__reduce__',\n",
       " '__reduce_ex__',\n",
       " '__repr__',\n",
       " '__setattr__',\n",
       " '__sizeof__',\n",
       " '__str__',\n",
       " '__subclasshook__',\n",
       " '__weakref__',\n",
       " 'f1',\n",
       " 'f2',\n",
       " 'f3']"
      ]
     },
     "execution_count": 26,
     "metadata": {},
     "output_type": "execute_result"
    }
   ],
   "source": [
    "dir(yy)"
   ]
  },
  {
   "cell_type": "code",
   "execution_count": 27,
   "id": "f53e3009",
   "metadata": {},
   "outputs": [
    {
     "name": "stdout",
     "output_type": "stream",
     "text": [
      "class A function f1\n"
     ]
    }
   ],
   "source": [
    "yy.f1()"
   ]
  },
  {
   "cell_type": "code",
   "execution_count": 30,
   "id": "5a21334a",
   "metadata": {},
   "outputs": [
    {
     "name": "stdout",
     "output_type": "stream",
     "text": [
      "class B function f2\n"
     ]
    }
   ],
   "source": [
    "yy.f2()"
   ]
  },
  {
   "cell_type": "code",
   "execution_count": 29,
   "id": "f436f116",
   "metadata": {},
   "outputs": [
    {
     "name": "stdout",
     "output_type": "stream",
     "text": [
      "class C function f3\n"
     ]
    }
   ],
   "source": [
    "yy.f3()"
   ]
  },
  {
   "attachments": {},
   "cell_type": "markdown",
   "id": "05f80708",
   "metadata": {},
   "source": [
    "### Hierarchical Inheritance"
   ]
  },
  {
   "cell_type": "code",
   "execution_count": 31,
   "id": "4bc40f1d",
   "metadata": {},
   "outputs": [],
   "source": [
    "class p1:\n",
    "    def fun1(self):\n",
    "        print(\"In parent class\")\n",
    "class c1(p1):\n",
    "    def fun2(self):\n",
    "        print(\"In child 1 class\")\n",
    "class c2(c1):\n",
    "    def fun3(self):\n",
    "        print(\"In  child 2 class\")\n",
    "z1=c1()\n",
    "z2=c2()\n",
    "\n",
    "        \n",
    "        \n",
    "        \n",
    "        \n",
    "        "
   ]
  },
  {
   "cell_type": "code",
   "execution_count": 32,
   "id": "fbd7e84a",
   "metadata": {},
   "outputs": [
    {
     "name": "stdout",
     "output_type": "stream",
     "text": [
      "In parent class\n"
     ]
    }
   ],
   "source": [
    "z1.fun1()"
   ]
  },
  {
   "cell_type": "markdown",
   "id": "4f1645e6",
   "metadata": {},
   "source": [
    "z1.fun2()"
   ]
  },
  {
   "cell_type": "code",
   "execution_count": 34,
   "id": "bbc439e2",
   "metadata": {},
   "outputs": [
    {
     "name": "stdout",
     "output_type": "stream",
     "text": [
      "In child 1 class\n"
     ]
    }
   ],
   "source": [
    "z2.fun2()"
   ]
  },
  {
   "cell_type": "code",
   "execution_count": 35,
   "id": "57dc5fd2",
   "metadata": {},
   "outputs": [
    {
     "name": "stdout",
     "output_type": "stream",
     "text": [
      "In parent class\n"
     ]
    }
   ],
   "source": [
    "z2.fun1()"
   ]
  },
  {
   "cell_type": "code",
   "execution_count": 36,
   "id": "370ad90d",
   "metadata": {},
   "outputs": [
    {
     "name": "stdout",
     "output_type": "stream",
     "text": [
      "In  child 2 class\n"
     ]
    }
   ],
   "source": [
    "z2.fun3()"
   ]
  },
  {
   "cell_type": "markdown",
   "id": "f536c974",
   "metadata": {},
   "source": [
    "### Hybrid Inheritance"
   ]
  },
  {
   "cell_type": "code",
   "execution_count": 40,
   "id": "da9db851",
   "metadata": {},
   "outputs": [],
   "source": [
    "class clg:\n",
    "    def f1(self):\n",
    "        print(\"function in school class\")\n",
    "class student1(clg):\n",
    "    def f2(self):\n",
    "        print(\"function in student 2 class\")\n",
    "class student2(student1,clg):\n",
    "    def f2(self):\n",
    "        print(\"function in student 2 class\")\n",
    "s=student2()"
   ]
  },
  {
   "cell_type": "code",
   "execution_count": 41,
   "id": "05d595d1",
   "metadata": {},
   "outputs": [
    {
     "name": "stdout",
     "output_type": "stream",
     "text": [
      "function in student 2 class\n"
     ]
    }
   ],
   "source": [
    "s.f2()"
   ]
  },
  {
   "cell_type": "code",
   "execution_count": 43,
   "id": "99fd6323",
   "metadata": {},
   "outputs": [
    {
     "name": "stdout",
     "output_type": "stream",
     "text": [
      "function in student 2 class\n"
     ]
    }
   ],
   "source": [
    "s.f2()"
   ]
  },
  {
   "cell_type": "markdown",
   "id": "c08e2877",
   "metadata": {},
   "source": [
    "### Data Encapsulation\n",
    "- Describes the data wrapping with one unit"
   ]
  },
  {
   "cell_type": "markdown",
   "id": "a5b8b9b8",
   "metadata": {},
   "source": [
    "### Private Variables"
   ]
  },
  {
   "cell_type": "code",
   "execution_count": 45,
   "id": "70091456",
   "metadata": {},
   "outputs": [],
   "source": [
    "class python:\n",
    "    def __init__(self):\n",
    "        self.__a='apssdc'\n",
    "    def view(self):\n",
    "        print(self.__a)\n",
    "    def v1(self,b):\n",
    "        self.__a=b\n",
    "        print(self.__a)\n",
    "x=python()"
   ]
  },
  {
   "cell_type": "code",
   "execution_count": 46,
   "id": "07e81bee",
   "metadata": {},
   "outputs": [
    {
     "name": "stdout",
     "output_type": "stream",
     "text": [
      "apssdc\n"
     ]
    }
   ],
   "source": [
    "x.view()"
   ]
  },
  {
   "cell_type": "code",
   "execution_count": 47,
   "id": "cfcc36d2",
   "metadata": {},
   "outputs": [
    {
     "name": "stdout",
     "output_type": "stream",
     "text": [
      "rrr\n"
     ]
    }
   ],
   "source": [
    "x.v1('rrr')"
   ]
  },
  {
   "cell_type": "markdown",
   "id": "4f95b82f",
   "metadata": {},
   "source": [
    "### Private Methods"
   ]
  },
  {
   "cell_type": "code",
   "execution_count": 50,
   "id": "9a59e7ce",
   "metadata": {},
   "outputs": [
    {
     "name": "stdout",
     "output_type": "stream",
     "text": [
      "update your software\n"
     ]
    }
   ],
   "source": [
    "class car:\n",
    "    def __init__(self):\n",
    "        self.__update()\n",
    "    def drive(self):\n",
    "        print(\"driving\")\n",
    "    def __update(self):\n",
    "        print(\"update your software\")\n",
    "c=car()"
   ]
  },
  {
   "cell_type": "code",
   "execution_count": 53,
   "id": "491ef8e8",
   "metadata": {},
   "outputs": [
    {
     "name": "stdout",
     "output_type": "stream",
     "text": [
      "12\n",
      "update your software\n"
     ]
    }
   ],
   "source": [
    "class car:\n",
    "    def __init__(self,x):\n",
    "        self.x=x\n",
    "        self.__update()\n",
    "    def drive(self):\n",
    "        print(\"driving\")\n",
    "    def __update(self):\n",
    "        print(self.x)\n",
    "        print(\"update your software\")\n",
    "c=car(12)"
   ]
  },
  {
   "cell_type": "code",
   "execution_count": 54,
   "id": "79de3472",
   "metadata": {},
   "outputs": [
    {
     "name": "stdout",
     "output_type": "stream",
     "text": [
      "driving\n"
     ]
    }
   ],
   "source": [
    "c.drive()"
   ]
  },
  {
   "cell_type": "markdown",
   "id": "e1925ded",
   "metadata": {},
   "source": [
    "### Constructor in Inheritance"
   ]
  },
  {
   "cell_type": "code",
   "execution_count": 56,
   "id": "d5b63592",
   "metadata": {},
   "outputs": [
    {
     "name": "stdout",
     "output_type": "stream",
     "text": [
      "p1 constructor\n"
     ]
    }
   ],
   "source": [
    "class p1:\n",
    "    def __init__(self):\n",
    "         print(\"p1 constructor\")\n",
    "    def fun1(self):\n",
    "         print(\"In parent class\")\n",
    "class c1(p1):\n",
    "    def fun2(self):\n",
    "        print(\"In child 1 class\")\n",
    "a1=c1()"
   ]
  },
  {
   "cell_type": "code",
   "execution_count": 58,
   "id": "53c6558a",
   "metadata": {},
   "outputs": [
    {
     "name": "stdout",
     "output_type": "stream",
     "text": [
      "p1 constructor\n",
      "belongs to c1 constructor\n"
     ]
    }
   ],
   "source": [
    "class p1:\n",
    "    def __init__(self):\n",
    "         print(\"p1 constructor\")\n",
    "    def fun1(self):\n",
    "         print(\"In parent class\")\n",
    "class c1(p1):\n",
    "    def __init__(self):\n",
    "        super().__init__()\n",
    "        print(\"belongs to c1 constructor\")\n",
    "    def fun2(self):\n",
    "        print(\"In child 1 class\")\n",
    "a1=c1()"
   ]
  },
  {
   "cell_type": "code",
   "execution_count": 64,
   "id": "1161f25d",
   "metadata": {},
   "outputs": [
    {
     "name": "stdout",
     "output_type": "stream",
     "text": [
      "p1 constructor\n",
      "belongs to c1 constructor\n"
     ]
    }
   ],
   "source": [
    "class p1:\n",
    "    def __init__(self):\n",
    "         print(\"p1 constructor\")\n",
    "    def fun1(self):\n",
    "         print(\"In parent 1 class\")\n",
    "class p2:\n",
    "    def __init__(self):\n",
    "         print(\"p2 constructor\")\n",
    "    def fun2(self):\n",
    "         print(\"In parent 2 class\")\n",
    "class c1(p1,p2):\n",
    "    def __init__(self):\n",
    "        super().__init__()\n",
    "        print(\"belongs to c1 constructor\")\n",
    "    def fun3(self):\n",
    "        super().fun2()\n",
    "        print(\"In child 1 class\")\n",
    "a1=c1()"
   ]
  },
  {
   "cell_type": "code",
   "execution_count": 65,
   "id": "96a41c53",
   "metadata": {},
   "outputs": [
    {
     "name": "stdout",
     "output_type": "stream",
     "text": [
      "In parent 2 class\n",
      "In child 1 class\n"
     ]
    }
   ],
   "source": [
    "a1.fun3()"
   ]
  },
  {
   "cell_type": "code",
   "execution_count": null,
   "id": "58b4b787",
   "metadata": {},
   "outputs": [],
   "source": []
  },
  {
   "cell_type": "code",
   "execution_count": null,
   "id": "dc42a847",
   "metadata": {},
   "outputs": [],
   "source": []
  }
 ],
 "metadata": {
  "kernelspec": {
   "display_name": "Python 3",
   "language": "python",
   "name": "python3"
  },
  "language_info": {
   "codemirror_mode": {
    "name": "ipython",
    "version": 3
   },
   "file_extension": ".py",
   "mimetype": "text/x-python",
   "name": "python",
   "nbconvert_exporter": "python",
   "pygments_lexer": "ipython3",
   "version": "3.8.8"
  }
 },
 "nbformat": 4,
 "nbformat_minor": 5
}
