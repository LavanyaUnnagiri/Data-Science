{
 "cells": [
  {
   "cell_type": "markdown",
   "id": "d293bbb3",
   "metadata": {},
   "source": [
    "### Data Analysis Libraries\n",
    "- Numpy\n",
    "- Pandas\n",
    "- Matplotlib\n",
    "- Seaborn\n",
    "- scipy"
   ]
  },
  {
   "cell_type": "markdown",
   "id": "2c2a6488",
   "metadata": {},
   "source": [
    "### Numpy\n",
    "- we can create arrays using numpy ex:zero dimensional,single,two,multi dimensional arrays\n",
    "- Numerical Python"
   ]
  },
  {
   "cell_type": "code",
   "execution_count": 1,
   "id": "adee0626",
   "metadata": {},
   "outputs": [],
   "source": [
    "import numpy"
   ]
  },
  {
   "cell_type": "code",
   "execution_count": 2,
   "id": "139c1969",
   "metadata": {},
   "outputs": [
    {
     "name": "stdout",
     "output_type": "stream",
     "text": [
      "Requirement already satisfied: numpy in c:\\programdata\\anaconda3\\lib\\site-packages (1.20.1)\n",
      "Note: you may need to restart the kernel to use updated packages.\n"
     ]
    }
   ],
   "source": [
    "pip install numpy"
   ]
  },
  {
   "cell_type": "code",
   "execution_count": 3,
   "id": "a0bedf8c",
   "metadata": {},
   "outputs": [],
   "source": [
    "import numpy as np"
   ]
  },
  {
   "cell_type": "code",
   "execution_count": 5,
   "id": "adcb4051",
   "metadata": {},
   "outputs": [
    {
     "data": {
      "text/plain": [
       "'1.20.1'"
      ]
     },
     "execution_count": 5,
     "metadata": {},
     "output_type": "execute_result"
    }
   ],
   "source": [
    "np.__version__"
   ]
  },
  {
   "cell_type": "markdown",
   "id": "f3c6a705",
   "metadata": {},
   "source": [
    "### Creating arrays"
   ]
  },
  {
   "cell_type": "code",
   "execution_count": 6,
   "id": "c8df5377",
   "metadata": {},
   "outputs": [
    {
     "name": "stdout",
     "output_type": "stream",
     "text": [
      "23\n"
     ]
    }
   ],
   "source": [
    "import numpy as np\n",
    "x=np.array(23)\n",
    "print(x)"
   ]
  },
  {
   "cell_type": "code",
   "execution_count": 7,
   "id": "2874998e",
   "metadata": {},
   "outputs": [
    {
     "data": {
      "text/plain": [
       "0"
      ]
     },
     "execution_count": 7,
     "metadata": {},
     "output_type": "execute_result"
    }
   ],
   "source": [
    "## check dimension\n",
    "np.ndim(x)"
   ]
  },
  {
   "cell_type": "code",
   "execution_count": 8,
   "id": "b4b7f8fb",
   "metadata": {},
   "outputs": [
    {
     "name": "stdout",
     "output_type": "stream",
     "text": [
      "[12 23  4  5  6]\n",
      "1\n"
     ]
    }
   ],
   "source": [
    "x1=np.array([12,23,4,5,6])\n",
    "print(x1)\n",
    "print(np.ndim(x1))"
   ]
  },
  {
   "cell_type": "code",
   "execution_count": 9,
   "id": "aceb654b",
   "metadata": {},
   "outputs": [
    {
     "name": "stdout",
     "output_type": "stream",
     "text": [
      "[[1 2 3]\n",
      " [4 5 6]]\n",
      "Dimension of x2 2\n"
     ]
    }
   ],
   "source": [
    "## 2D array\n",
    "x2=np.array([[1,2,3],[4,5,6]])\n",
    "print(x2)\n",
    "print(\"Dimension of x2\",np.ndim(x2))"
   ]
  },
  {
   "cell_type": "code",
   "execution_count": 10,
   "id": "1ea4a4ca",
   "metadata": {},
   "outputs": [
    {
     "data": {
      "text/plain": [
       "6"
      ]
     },
     "execution_count": 10,
     "metadata": {},
     "output_type": "execute_result"
    }
   ],
   "source": [
    "## no of elements\n",
    "np.size(x2)"
   ]
  },
  {
   "cell_type": "code",
   "execution_count": 11,
   "id": "e1da5359",
   "metadata": {},
   "outputs": [
    {
     "data": {
      "text/plain": [
       "(2, 3)"
      ]
     },
     "execution_count": 11,
     "metadata": {},
     "output_type": "execute_result"
    }
   ],
   "source": [
    "## To get no of rows and columns\n",
    "np.shape(x2)"
   ]
  },
  {
   "cell_type": "markdown",
   "id": "fa7748c1",
   "metadata": {},
   "source": [
    "### 3D Array\n"
   ]
  },
  {
   "cell_type": "code",
   "execution_count": 13,
   "id": "923751ac",
   "metadata": {},
   "outputs": [
    {
     "name": "stdout",
     "output_type": "stream",
     "text": [
      "[[[1 2 3]\n",
      "  [6 7 8]\n",
      "  [4 7 9]]]\n",
      "dimension of x3 3\n",
      "elements of x3: 9\n",
      "shape of x3: (1, 3, 3)\n"
     ]
    }
   ],
   "source": [
    "import numpy as np\n",
    "x3=np.array([[[1,2,3],[6,7,8],[4,7,9]]])\n",
    "print(x3)\n",
    "print(\"dimension of x3\",np.ndim(x3))\n",
    "print(\"elements of x3:\",np.size(x3))\n",
    "print(\"shape of x3:\",np.shape(x3))"
   ]
  },
  {
   "cell_type": "markdown",
   "id": "1e71aafc",
   "metadata": {},
   "source": [
    "## Methods to create arrays\n",
    "- Zeros\n",
    "- Ones\n",
    "- linspace\n",
    "- logspace\n",
    "- arrange"
   ]
  },
  {
   "cell_type": "code",
   "execution_count": 14,
   "id": "5efee9ae",
   "metadata": {},
   "outputs": [
    {
     "name": "stdout",
     "output_type": "stream",
     "text": [
      "[0 0 0 0]\n"
     ]
    }
   ],
   "source": [
    "a0=np.zeros(4,dtype=int)\n",
    "print(a0)"
   ]
  },
  {
   "cell_type": "code",
   "execution_count": 18,
   "id": "55af8042",
   "metadata": {},
   "outputs": [
    {
     "name": "stdout",
     "output_type": "stream",
     "text": [
      "['' '' '' '']\n"
     ]
    }
   ],
   "source": [
    "a0=np.zeros(4,dtype=str)\n",
    "print(a0)"
   ]
  },
  {
   "cell_type": "code",
   "execution_count": 16,
   "id": "d83cad65",
   "metadata": {},
   "outputs": [
    {
     "name": "stdout",
     "output_type": "stream",
     "text": [
      "[1 1 1 1]\n"
     ]
    }
   ],
   "source": [
    "a0=np.ones(4,dtype=int)\n",
    "print(a0)"
   ]
  },
  {
   "cell_type": "code",
   "execution_count": 17,
   "id": "32ddbcae",
   "metadata": {},
   "outputs": [
    {
     "name": "stdout",
     "output_type": "stream",
     "text": [
      "['1' '1' '1' '1']\n"
     ]
    }
   ],
   "source": [
    "a0=np.ones(4,dtype=str)\n",
    "print(a0)"
   ]
  },
  {
   "cell_type": "code",
   "execution_count": 20,
   "id": "cab2966c",
   "metadata": {},
   "outputs": [
    {
     "name": "stdout",
     "output_type": "stream",
     "text": [
      "[1. 1. 1. 1.]\n"
     ]
    }
   ],
   "source": [
    "a0=np.ones(4)  ## float by default\n",
    "print(a0)"
   ]
  },
  {
   "cell_type": "code",
   "execution_count": 24,
   "id": "c8384741",
   "metadata": {},
   "outputs": [
    {
     "name": "stdout",
     "output_type": "stream",
     "text": [
      "[[1 1 1 1 1]]\n",
      "[[1 1 1 1 1]]\n"
     ]
    }
   ],
   "source": [
    "a0=np.ones(5,dtype=int)\n",
    "a1=a0.reshape(1,5)\n",
    "print(a1)\n",
    "a2=a1.reshape(1,5)\n",
    "print(a2)"
   ]
  },
  {
   "cell_type": "code",
   "execution_count": 25,
   "id": "e7e5ba60",
   "metadata": {},
   "outputs": [
    {
     "name": "stdout",
     "output_type": "stream",
     "text": [
      "[[1]\n",
      " [1]\n",
      " [1]\n",
      " [1]\n",
      " [1]]\n",
      "[[1 1 1 1 1]]\n"
     ]
    }
   ],
   "source": [
    "a0=np.ones(5,dtype=int)\n",
    "a1=a0.reshape(5,1)\n",
    "print(a1)\n",
    "a2=a1.reshape(1,5)\n",
    "print(a2)"
   ]
  },
  {
   "cell_type": "code",
   "execution_count": 29,
   "id": "72a024a8",
   "metadata": {},
   "outputs": [
    {
     "name": "stdout",
     "output_type": "stream",
     "text": [
      "[ 1  3  5  7  9 11]\n",
      "1\n",
      "6\n"
     ]
    }
   ],
   "source": [
    "import numpy as np\n",
    "a=np.arange(1,12,2)\n",
    "print(a)\n",
    "print(np.ndim(a))\n",
    "print(np.size(a))"
   ]
  },
  {
   "cell_type": "markdown",
   "id": "c50830cf",
   "metadata": {},
   "source": [
    "### Posibilities to reshape of 6 elements\n",
    "- (2,3)\n",
    "- (3,2)\n",
    "- (6,1)\n",
    "- (1,6)"
   ]
  },
  {
   "cell_type": "code",
   "execution_count": 31,
   "id": "4fe6b1ad",
   "metadata": {},
   "outputs": [
    {
     "name": "stdout",
     "output_type": "stream",
     "text": [
      "[ 1  3  5  7  9 11]\n",
      "[[ 1  3]\n",
      " [ 5  7]\n",
      " [ 9 11]]\n"
     ]
    }
   ],
   "source": [
    "a1=a.reshape(3,2)\n",
    "print(a)\n",
    "print(a1)"
   ]
  },
  {
   "cell_type": "code",
   "execution_count": 33,
   "id": "c80432c4",
   "metadata": {},
   "outputs": [
    {
     "name": "stdout",
     "output_type": "stream",
     "text": [
      "[1.00000000e+01 1.20679264e+01 1.45634848e+01 1.75751062e+01\n",
      " 2.12095089e+01 2.55954792e+01 3.08884360e+01 3.72759372e+01\n",
      " 4.49843267e+01 5.42867544e+01 6.55128557e+01 7.90604321e+01\n",
      " 9.54095476e+01 1.15139540e+02 1.38949549e+02 1.67683294e+02\n",
      " 2.02358965e+02 2.44205309e+02 2.94705170e+02 3.55648031e+02\n",
      " 4.29193426e+02 5.17947468e+02 6.25055193e+02 7.54312006e+02\n",
      " 9.10298178e+02 1.09854114e+03 1.32571137e+03 1.59985872e+03\n",
      " 1.93069773e+03 2.32995181e+03 2.81176870e+03 3.39322177e+03\n",
      " 4.09491506e+03 4.94171336e+03 5.96362332e+03 7.19685673e+03\n",
      " 8.68511374e+03 1.04811313e+04 1.26485522e+04 1.52641797e+04\n",
      " 1.84206997e+04 2.22299648e+04 2.68269580e+04 3.23745754e+04\n",
      " 3.90693994e+04 4.71486636e+04 5.68986603e+04 6.86648845e+04\n",
      " 8.28642773e+04 1.00000000e+05]\n"
     ]
    }
   ],
   "source": [
    "l1=np.logspace(1,5)\n",
    "print(l1)"
   ]
  },
  {
   "cell_type": "code",
   "execution_count": 34,
   "id": "0b4dbf18",
   "metadata": {},
   "outputs": [
    {
     "name": "stdout",
     "output_type": "stream",
     "text": [
      "[1.e+01 1.e+03 1.e+05]\n"
     ]
    }
   ],
   "source": [
    "l1=np.logspace(1,5,3)\n",
    "print(l1)"
   ]
  },
  {
   "cell_type": "code",
   "execution_count": 36,
   "id": "421a5d0a",
   "metadata": {},
   "outputs": [
    {
     "data": {
      "text/plain": [
       "array([1.        , 1.08163265, 1.16326531, 1.24489796, 1.32653061,\n",
       "       1.40816327, 1.48979592, 1.57142857, 1.65306122, 1.73469388,\n",
       "       1.81632653, 1.89795918, 1.97959184, 2.06122449, 2.14285714,\n",
       "       2.2244898 , 2.30612245, 2.3877551 , 2.46938776, 2.55102041,\n",
       "       2.63265306, 2.71428571, 2.79591837, 2.87755102, 2.95918367,\n",
       "       3.04081633, 3.12244898, 3.20408163, 3.28571429, 3.36734694,\n",
       "       3.44897959, 3.53061224, 3.6122449 , 3.69387755, 3.7755102 ,\n",
       "       3.85714286, 3.93877551, 4.02040816, 4.10204082, 4.18367347,\n",
       "       4.26530612, 4.34693878, 4.42857143, 4.51020408, 4.59183673,\n",
       "       4.67346939, 4.75510204, 4.83673469, 4.91836735, 5.        ])"
      ]
     },
     "execution_count": 36,
     "metadata": {},
     "output_type": "execute_result"
    }
   ],
   "source": [
    "l2=np.linspace(1,5)\n",
    "l2"
   ]
  },
  {
   "cell_type": "code",
   "execution_count": 37,
   "id": "e2685f32",
   "metadata": {},
   "outputs": [
    {
     "data": {
      "text/plain": [
       "array([1., 2., 3., 4., 5.])"
      ]
     },
     "execution_count": 37,
     "metadata": {},
     "output_type": "execute_result"
    }
   ],
   "source": [
    "l2=np.linspace(1,5,5)\n",
    "l2"
   ]
  },
  {
   "cell_type": "code",
   "execution_count": 38,
   "id": "894c4e98",
   "metadata": {},
   "outputs": [
    {
     "data": {
      "text/plain": [
       "array([[0.35638789, 0.24771875],\n",
       "       [0.29605931, 0.47885383],\n",
       "       [0.47070363, 0.50893166]])"
      ]
     },
     "execution_count": 38,
     "metadata": {},
     "output_type": "execute_result"
    }
   ],
   "source": [
    "r=np.random.rand(3,2)\n",
    "r"
   ]
  },
  {
   "cell_type": "code",
   "execution_count": 40,
   "id": "62f12f91",
   "metadata": {},
   "outputs": [
    {
     "data": {
      "text/plain": [
       "9"
      ]
     },
     "execution_count": 40,
     "metadata": {},
     "output_type": "execute_result"
    }
   ],
   "source": [
    "r1=np.random.randint(1,10)   ## random integer\n",
    "r1"
   ]
  },
  {
   "cell_type": "code",
   "execution_count": 41,
   "id": "ab70169c",
   "metadata": {},
   "outputs": [
    {
     "data": {
      "text/plain": [
       "99"
      ]
     },
     "execution_count": 41,
     "metadata": {},
     "output_type": "execute_result"
    }
   ],
   "source": [
    "r1=np.random.randint(1,100)   ## random integer\n",
    "r1"
   ]
  },
  {
   "cell_type": "code",
   "execution_count": 43,
   "id": "84aee792",
   "metadata": {},
   "outputs": [
    {
     "data": {
      "text/plain": [
       "array([[-2.52373869,  0.35581505, -0.00698427,  0.12824909,  0.55881859,\n",
       "        -0.59740599, -1.63432343,  0.2555712 , -0.0313912 , -1.27574614]])"
      ]
     },
     "execution_count": 43,
     "metadata": {},
     "output_type": "execute_result"
    }
   ],
   "source": [
    "r1=np.random.randn(1,10)  \n",
    "r1"
   ]
  },
  {
   "cell_type": "code",
   "execution_count": 44,
   "id": "728152f3",
   "metadata": {},
   "outputs": [
    {
     "data": {
      "text/plain": [
       "2"
      ]
     },
     "execution_count": 44,
     "metadata": {},
     "output_type": "execute_result"
    }
   ],
   "source": [
    "np.ndim(r1)"
   ]
  },
  {
   "cell_type": "code",
   "execution_count": 46,
   "id": "0852f5a5",
   "metadata": {},
   "outputs": [
    {
     "data": {
      "text/plain": [
       "array([-2.52373869,  0.35581505, -0.00698427,  0.12824909,  0.55881859,\n",
       "       -0.59740599, -1.63432343,  0.2555712 , -0.0313912 , -1.27574614])"
      ]
     },
     "execution_count": 46,
     "metadata": {},
     "output_type": "execute_result"
    }
   ],
   "source": [
    "r2=r1.flatten()\n",
    "r2"
   ]
  },
  {
   "cell_type": "code",
   "execution_count": 48,
   "id": "7ca3dedd",
   "metadata": {},
   "outputs": [
    {
     "data": {
      "text/plain": [
       "1"
      ]
     },
     "execution_count": 48,
     "metadata": {},
     "output_type": "execute_result"
    }
   ],
   "source": [
    "np.ndim(r2)"
   ]
  },
  {
   "cell_type": "markdown",
   "id": "28121140",
   "metadata": {},
   "source": [
    "### Accessing Elements in Arrays\n",
    "1. indexing\n",
    "    - -ve\n",
    "    - +ve\n",
    "2.Slicing\n",
    "    -[start:stop:step]\n",
    "3.Loop\n",
    "    - for\n",
    "    - while"
   ]
  },
  {
   "cell_type": "code",
   "execution_count": null,
   "id": "786ceb0a",
   "metadata": {},
   "outputs": [],
   "source": []
  },
  {
   "cell_type": "code",
   "execution_count": null,
   "id": "1ccd6f8d",
   "metadata": {},
   "outputs": [],
   "source": []
  }
 ],
 "metadata": {
  "kernelspec": {
   "display_name": "Python 3",
   "language": "python",
   "name": "python3"
  },
  "language_info": {
   "codemirror_mode": {
    "name": "ipython",
    "version": 3
   },
   "file_extension": ".py",
   "mimetype": "text/x-python",
   "name": "python",
   "nbconvert_exporter": "python",
   "pygments_lexer": "ipython3",
   "version": "3.8.8"
  }
 },
 "nbformat": 4,
 "nbformat_minor": 5
}
