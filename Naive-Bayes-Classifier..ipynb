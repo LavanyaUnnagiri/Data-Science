{
 "cells": [
  {
   "cell_type": "markdown",
   "id": "64722d01",
   "metadata": {},
   "source": [
    "\n",
    "### NaiveBayes\n",
    "- Based on Bayes theorem for culculating probability and conditional probabilities\n",
    "- P(A|B)=(P(B|A)*P(A))/P(B)\n",
    "- A-->output\n",
    "- B--->features data\n",
    "- guassian Nb()\n",
    "- Multinomial Nb(target has more than 2 o/p classes)()\n",
    "- bernoulli Nb(target has only 2 o/p classes)\n",
    "- works better for Sentimental analysis,recommended systems"
   ]
  },
  {
   "cell_type": "markdown",
   "id": "f81d54c4",
   "metadata": {},
   "source": [
    "### Multinomial Naive Bayes Classifier"
   ]
  },
  {
   "cell_type": "code",
   "execution_count": 1,
   "id": "ef2ee58f",
   "metadata": {},
   "outputs": [],
   "source": [
    "import pandas as pd\n",
    "df=pd.read_csv(\"https://raw.githubusercontent.com/AP-State-Skill-Development-Corporation/Data-Science-Using-Python-Internship-EB1/main/Notebooks/amazondataset.csv\")"
   ]
  },
  {
   "cell_type": "code",
   "execution_count": 2,
   "id": "4acb70f9",
   "metadata": {},
   "outputs": [
    {
     "data": {
      "text/html": [
       "<div>\n",
       "<style scoped>\n",
       "    .dataframe tbody tr th:only-of-type {\n",
       "        vertical-align: middle;\n",
       "    }\n",
       "\n",
       "    .dataframe tbody tr th {\n",
       "        vertical-align: top;\n",
       "    }\n",
       "\n",
       "    .dataframe thead th {\n",
       "        text-align: right;\n",
       "    }\n",
       "</style>\n",
       "<table border=\"1\" class=\"dataframe\">\n",
       "  <thead>\n",
       "    <tr style=\"text-align: right;\">\n",
       "      <th></th>\n",
       "      <th>uncleanedreview</th>\n",
       "      <th>decision</th>\n",
       "    </tr>\n",
       "  </thead>\n",
       "  <tbody>\n",
       "    <tr>\n",
       "      <th>0</th>\n",
       "      <td>I had the Samsung A600 for awhile which is abs...</td>\n",
       "      <td>positive</td>\n",
       "    </tr>\n",
       "    <tr>\n",
       "      <th>1</th>\n",
       "      <td>Due to a software issue between Nokia and Spri...</td>\n",
       "      <td>positive</td>\n",
       "    </tr>\n",
       "    <tr>\n",
       "      <th>2</th>\n",
       "      <td>This is a great, reliable phone. I also purcha...</td>\n",
       "      <td>positive</td>\n",
       "    </tr>\n",
       "    <tr>\n",
       "      <th>3</th>\n",
       "      <td>I love the phone and all, because I really did...</td>\n",
       "      <td>positive</td>\n",
       "    </tr>\n",
       "    <tr>\n",
       "      <th>4</th>\n",
       "      <td>The phone has been great for every purpose it ...</td>\n",
       "      <td>positive</td>\n",
       "    </tr>\n",
       "  </tbody>\n",
       "</table>\n",
       "</div>"
      ],
      "text/plain": [
       "                                     uncleanedreview  decision\n",
       "0  I had the Samsung A600 for awhile which is abs...  positive\n",
       "1  Due to a software issue between Nokia and Spri...  positive\n",
       "2  This is a great, reliable phone. I also purcha...  positive\n",
       "3  I love the phone and all, because I really did...  positive\n",
       "4  The phone has been great for every purpose it ...  positive"
      ]
     },
     "execution_count": 2,
     "metadata": {},
     "output_type": "execute_result"
    }
   ],
   "source": [
    "df.head()"
   ]
  },
  {
   "cell_type": "code",
   "execution_count": 3,
   "id": "5fe34560",
   "metadata": {},
   "outputs": [
    {
     "data": {
      "text/plain": [
       "positive    57512\n",
       "negative    14410\n",
       "Name: decision, dtype: int64"
      ]
     },
     "execution_count": 3,
     "metadata": {},
     "output_type": "execute_result"
    }
   ],
   "source": [
    "df[\"decision\"].value_counts()"
   ]
  },
  {
   "cell_type": "code",
   "execution_count": 4,
   "id": "4ca2bba2",
   "metadata": {},
   "outputs": [
    {
     "data": {
      "text/plain": [
       "2    This is a great, reliable phone. I also purcha...\n",
       "Name: uncleanedreview, dtype: object"
      ]
     },
     "execution_count": 4,
     "metadata": {},
     "output_type": "execute_result"
    }
   ],
   "source": [
    "a=df.iloc[2:3,0]\n",
    "a"
   ]
  },
  {
   "cell_type": "code",
   "execution_count": 5,
   "id": "53b005eb",
   "metadata": {},
   "outputs": [
    {
     "name": "stderr",
     "output_type": "stream",
     "text": [
      "[nltk_data] Downloading package punkt to C:\\Users\\Unnagiri\n",
      "[nltk_data]     Lavanya\\AppData\\Roaming\\nltk_data...\n",
      "[nltk_data]   Unzipping tokenizers\\punkt.zip.\n"
     ]
    },
    {
     "name": "stdout",
     "output_type": "stream",
     "text": [
      "['This', 'is', 'a', 'great', ',', 'reliable', 'phone', '.', 'I', 'also', 'purchased', '.']\n"
     ]
    }
   ],
   "source": [
    "import nltk\n",
    "nltk.download('punkt')\n",
    "from nltk import word_tokenize\n",
    "data=\"This is a great, reliable phone. I also purchased.\"\n",
    "print(word_tokenize(data))  #to convert to words"
   ]
  },
  {
   "cell_type": "code",
   "execution_count": 6,
   "id": "bbeea9dd",
   "metadata": {},
   "outputs": [
    {
     "name": "stderr",
     "output_type": "stream",
     "text": [
      "[nltk_data] Downloading package stopwords to C:\\Users\\Unnagiri\n",
      "[nltk_data]     Lavanya\\AppData\\Roaming\\nltk_data...\n",
      "[nltk_data]   Unzipping corpora\\stopwords.zip.\n"
     ]
    }
   ],
   "source": [
    "nltk.download('stopwords')\n",
    "from nltk.corpus import stopwords\n",
    "stopWords=set(stopwords.words('english'))  #to set english stopwords"
   ]
  },
  {
   "cell_type": "code",
   "execution_count": 7,
   "id": "46a95aa6",
   "metadata": {},
   "outputs": [
    {
     "name": "stdout",
     "output_type": "stream",
     "text": [
      "{'a', \"should've\", 'themselves', 'other', 'if', \"you'll\", 'doing', 'them', 'they', 'very', \"aren't\", 'on', 'own', 'before', 'not', 'any', 'are', 'she', \"don't\", 'those', 're', 'haven', 'mustn', 'i', 'yourself', \"shan't\", 'its', 'we', 'be', 'between', 'most', 'y', 'itself', 'shan', 'at', 'all', 'too', \"wasn't\", 'am', 'once', 'me', 'down', 'the', 'didn', 'only', 'should', \"couldn't\", 'more', \"that'll\", 'do', 'through', 'up', \"mightn't\", \"hadn't\", 'were', 'few', 'by', 'than', 'needn', \"shouldn't\", 'in', 'yourselves', 'have', 'ours', 'what', 'no', 'now', \"didn't\", \"mustn't\", 'weren', 'while', 'mightn', 'until', 'himself', 'can', 'him', 'for', \"needn't\", 'of', 'under', 'shouldn', 'as', \"it's\", 'our', 'below', 'my', 'her', 'further', 'o', 'such', 'will', 'these', 'hers', 'their', 'after', 'with', 'same', 'from', 'd', 'being', 'it', 'hadn', 'just', 'herself', 'to', 'because', 'you', 'or', 'nor', 'an', \"doesn't\", 'does', 'your', \"you've\", 'who', 'theirs', 'which', 'that', 'm', 'there', 'yours', \"you're\", 'against', 'having', 'when', 'whom', 'and', 'ain', 'how', 'is', 'don', 'was', 'over', 'both', 'has', 'his', 'each', 'why', \"won't\", \"haven't\", 'out', 'myself', 'wasn', 'been', 'then', 'above', 'ourselves', 'during', 'but', 'here', \"weren't\", 'so', 'where', 's', 'isn', 'about', 'doesn', 'off', 'hasn', \"hasn't\", 'wouldn', 'll', 've', 'aren', \"she's\", \"you'd\", 'had', 'he', 'some', 'did', 'won', 'into', 'again', \"isn't\", 'ma', 't', \"wouldn't\", 'this', 'couldn'}\n"
     ]
    }
   ],
   "source": [
    "print(stopWords)"
   ]
  },
  {
   "cell_type": "code",
   "execution_count": 8,
   "id": "15f7a4d7",
   "metadata": {},
   "outputs": [],
   "source": [
    "import string\n",
    "data=\"This is a great!, reliable phone. I also purchased.\"\n",
    "b=[i for i in data if i not in string.punctuation]   #to remove punctuation in text"
   ]
  },
  {
   "cell_type": "code",
   "execution_count": 9,
   "id": "6881c0d4",
   "metadata": {},
   "outputs": [
    {
     "data": {
      "text/plain": [
       "'This is a great reliable phone I also purchased'"
      ]
     },
     "execution_count": 9,
     "metadata": {},
     "output_type": "execute_result"
    }
   ],
   "source": [
    "new_data=\"\".join(b)\n",
    "new_data"
   ]
  },
  {
   "cell_type": "code",
   "execution_count": 10,
   "id": "5abe88e5",
   "metadata": {},
   "outputs": [
    {
     "data": {
      "text/plain": [
       "['This', 'is', 'a', 'great', 'reliable', 'phone', 'I', 'also', 'purchased']"
      ]
     },
     "execution_count": 10,
     "metadata": {},
     "output_type": "execute_result"
    }
   ],
   "source": [
    "n_data=new_data.split()\n",
    "n_data  #split the data into words(can also be done by word tokenizer)"
   ]
  },
  {
   "cell_type": "code",
   "execution_count": 11,
   "id": "f7e4ece0",
   "metadata": {},
   "outputs": [
    {
     "data": {
      "text/plain": [
       "CountVectorizer()"
      ]
     },
     "execution_count": 11,
     "metadata": {},
     "output_type": "execute_result"
    }
   ],
   "source": [
    "from sklearn.feature_extraction.text import CountVectorizer\n",
    "d1=['This is a great reliable phone I also purchased']\n",
    "vec=CountVectorizer()\n",
    "vec.fit(d1)"
   ]
  },
  {
   "cell_type": "code",
   "execution_count": 12,
   "id": "862e3359",
   "metadata": {},
   "outputs": [
    {
     "data": {
      "text/plain": [
       "{'this': 6,\n",
       " 'is': 2,\n",
       " 'great': 1,\n",
       " 'reliable': 5,\n",
       " 'phone': 3,\n",
       " 'also': 0,\n",
       " 'purchased': 4}"
      ]
     },
     "execution_count": 12,
     "metadata": {},
     "output_type": "execute_result"
    }
   ],
   "source": [
    "vec.vocabulary_"
   ]
  },
  {
   "cell_type": "code",
   "execution_count": 13,
   "id": "faf86196",
   "metadata": {},
   "outputs": [
    {
     "name": "stdout",
     "output_type": "stream",
     "text": [
      "  (0, 6)\t1\n",
      "  (1, 2)\t1\n",
      "  (3, 1)\t1\n",
      "  (4, 5)\t1\n",
      "  (5, 3)\t1\n",
      "  (7, 0)\t1\n",
      "  (8, 4)\t1\n"
     ]
    }
   ],
   "source": [
    "vectorizer=vec.transform(n_data)\n",
    "print(vectorizer)"
   ]
  },
  {
   "cell_type": "code",
   "execution_count": 14,
   "id": "4adf5cc6",
   "metadata": {},
   "outputs": [
    {
     "name": "stdout",
     "output_type": "stream",
     "text": [
      "  (0, 6)\t1\n",
      "  (1, 2)\t1\n",
      "  (3, 1)\t1\n",
      "  (4, 5)\t1\n",
      "  (5, 3)\t1\n",
      "  (7, 0)\t1\n",
      "  (8, 4)\t1\n"
     ]
    }
   ],
   "source": [
    "d2=n_data\n",
    "vec=CountVectorizer()\n",
    "print(vec.fit_transform(n_data))"
   ]
  }
 ],
 "metadata": {
  "kernelspec": {
   "display_name": "Python 3",
   "language": "python",
   "name": "python3"
  },
  "language_info": {
   "codemirror_mode": {
    "name": "ipython",
    "version": 3
   },
   "file_extension": ".py",
   "mimetype": "text/x-python",
   "name": "python",
   "nbconvert_exporter": "python",
   "pygments_lexer": "ipython3",
   "version": "3.8.8"
  }
 },
 "nbformat": 4,
 "nbformat_minor": 5
}
