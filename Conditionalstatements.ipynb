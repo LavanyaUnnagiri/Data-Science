{
 "cells": [
  {
   "cell_type": "markdown",
   "id": "9ad37790",
   "metadata": {},
   "source": [
    "## Simple if"
   ]
  },
  {
   "cell_type": "code",
   "execution_count": 1,
   "id": "1cb6fd19",
   "metadata": {},
   "outputs": [
    {
     "name": "stdout",
     "output_type": "stream",
     "text": [
      "15 is big\n"
     ]
    }
   ],
   "source": [
    "a=10\n",
    "b=15\n",
    "if(b>a):\n",
    "    print(b,\"is big\")"
   ]
  },
  {
   "cell_type": "markdown",
   "id": "d30311bf",
   "metadata": {},
   "source": [
    "## if else\n"
   ]
  },
  {
   "cell_type": "code",
   "execution_count": 2,
   "id": "c7fccea7",
   "metadata": {},
   "outputs": [
    {
     "name": "stdout",
     "output_type": "stream",
     "text": [
      "b is big\n"
     ]
    }
   ],
   "source": [
    "a=10\n",
    "b=15\n",
    "if(a>b):\n",
    "    print(\"a is big\")\n",
    "else:\n",
    "    print(\"b is big\")"
   ]
  },
  {
   "cell_type": "markdown",
   "id": "a782cdf3",
   "metadata": {},
   "source": [
    "## else if\n"
   ]
  },
  {
   "cell_type": "code",
   "execution_count": 5,
   "id": "f36838d3",
   "metadata": {},
   "outputs": [
    {
     "name": "stdout",
     "output_type": "stream",
     "text": [
      "b is big\n"
     ]
    }
   ],
   "source": [
    "a=10\n",
    "b=20\n",
    "c=15\n",
    "if(a>b and a>c):\n",
    "    print(\"a is big\")\n",
    "elif(b>c):\n",
    "    print(\"b is big\")\n",
    "else:\n",
    "    print(\"c is big\")"
   ]
  },
  {
   "cell_type": "markdown",
   "id": "ef8524b1",
   "metadata": {},
   "source": [
    "## Decision Loops"
   ]
  },
  {
   "cell_type": "markdown",
   "id": "92cc56d5",
   "metadata": {},
   "source": [
    "## The 'while' Loop"
   ]
  },
  {
   "cell_type": "code",
   "execution_count": 6,
   "id": "b28f4794",
   "metadata": {},
   "outputs": [
    {
     "name": "stdout",
     "output_type": "stream",
     "text": [
      "1\n",
      "2\n",
      "3\n",
      "END\n"
     ]
    }
   ],
   "source": [
    "i=1\n",
    "while(i<4):\n",
    "    print(i)\n",
    "    i+=1\n",
    "print(\"END\")"
   ]
  },
  {
   "cell_type": "markdown",
   "id": "0e5a4d3a",
   "metadata": {},
   "source": [
    "## The 'for' Loop"
   ]
  },
  {
   "cell_type": "code",
   "execution_count": 7,
   "id": "ac541d89",
   "metadata": {},
   "outputs": [
    {
     "name": "stdout",
     "output_type": "stream",
     "text": [
      "1\n",
      "2\n",
      "3\n",
      "4\n",
      "5\n",
      "END\n"
     ]
    }
   ],
   "source": [
    "for i in range(1,6,1):\n",
    "    print(i)\n",
    "print(\"END\")"
   ]
  },
  {
   "cell_type": "code",
   "execution_count": null,
   "id": "c9c2aa79",
   "metadata": {},
   "outputs": [],
   "source": []
  }
 ],
 "metadata": {
  "kernelspec": {
   "display_name": "Python 3",
   "language": "python",
   "name": "python3"
  },
  "language_info": {
   "codemirror_mode": {
    "name": "ipython",
    "version": 3
   },
   "file_extension": ".py",
   "mimetype": "text/x-python",
   "name": "python",
   "nbconvert_exporter": "python",
   "pygments_lexer": "ipython3",
   "version": "3.8.8"
  }
 },
 "nbformat": 4,
 "nbformat_minor": 5
}
