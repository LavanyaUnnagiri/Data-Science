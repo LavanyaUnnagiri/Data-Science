{
 "cells": [
  {
   "cell_type": "markdown",
   "id": "dc54e9ed",
   "metadata": {},
   "source": [
    "## Lists\n",
    "\n",
    " It is used to store the non-homogenous group of valid datatypes in python"
   ]
  },
  {
   "cell_type": "markdown",
   "id": "448151e8",
   "metadata": {},
   "source": [
    "### Properties\n",
    "- It is declared as []\n",
    "- List mutable data Type\n",
    "- List is an Ordered data\n",
    "- It is iterable"
   ]
  },
  {
   "cell_type": "code",
   "execution_count": 1,
   "id": "121bb913",
   "metadata": {},
   "outputs": [],
   "source": [
    "li = [1,2,5,6,65]\n"
   ]
  },
  {
   "cell_type": "code",
   "execution_count": 2,
   "id": "805d3c52",
   "metadata": {},
   "outputs": [
    {
     "name": "stdout",
     "output_type": "stream",
     "text": [
      "5 65 1 79\n"
     ]
    }
   ],
   "source": [
    "print(len(li),max(li),min(li),sum(li))"
   ]
  },
  {
   "cell_type": "code",
   "execution_count": 3,
   "id": "d3ffb90a",
   "metadata": {},
   "outputs": [
    {
     "name": "stdout",
     "output_type": "stream",
     "text": [
      "1\n"
     ]
    }
   ],
   "source": [
    "print(li[0])"
   ]
  },
  {
   "cell_type": "code",
   "execution_count": 6,
   "id": "f31711b4",
   "metadata": {},
   "outputs": [
    {
     "name": "stdout",
     "output_type": "stream",
     "text": [
      "2\n"
     ]
    }
   ],
   "source": [
    "print(li[-4])"
   ]
  },
  {
   "cell_type": "code",
   "execution_count": 7,
   "id": "780010d8",
   "metadata": {},
   "outputs": [
    {
     "name": "stdout",
     "output_type": "stream",
     "text": [
      "[1, 2]\n"
     ]
    }
   ],
   "source": [
    "print(li[0:2])"
   ]
  },
  {
   "cell_type": "code",
   "execution_count": 13,
   "id": "e2e2bbd1",
   "metadata": {},
   "outputs": [
    {
     "name": "stdout",
     "output_type": "stream",
     "text": [
      "[6, 65]\n"
     ]
    }
   ],
   "source": [
    "print(li[3:])"
   ]
  },
  {
   "cell_type": "code",
   "execution_count": 14,
   "id": "aa24f261",
   "metadata": {},
   "outputs": [
    {
     "name": "stdout",
     "output_type": "stream",
     "text": [
      "[6, 65]\n"
     ]
    }
   ],
   "source": [
    "print(li[len(li)-2:])"
   ]
  },
  {
   "cell_type": "code",
   "execution_count": 15,
   "id": "3b0e9fa0",
   "metadata": {},
   "outputs": [
    {
     "name": "stdout",
     "output_type": "stream",
     "text": [
      "[6, 65]\n"
     ]
    }
   ],
   "source": [
    "print(li[-2:])"
   ]
  },
  {
   "cell_type": "code",
   "execution_count": 17,
   "id": "6951954a",
   "metadata": {},
   "outputs": [
    {
     "name": "stdout",
     "output_type": "stream",
     "text": [
      "[1, 5, 65]\n"
     ]
    }
   ],
   "source": [
    "print(li[:len(li):2])"
   ]
  },
  {
   "cell_type": "code",
   "execution_count": 18,
   "id": "0ec005b4",
   "metadata": {},
   "outputs": [
    {
     "name": "stdout",
     "output_type": "stream",
     "text": [
      "[65, 6]\n"
     ]
    }
   ],
   "source": [
    "print(li[:2:-1])"
   ]
  },
  {
   "cell_type": "code",
   "execution_count": 19,
   "id": "ec4c40a1",
   "metadata": {},
   "outputs": [
    {
     "name": "stdout",
     "output_type": "stream",
     "text": [
      "[65, 6, 5, 2, 1]\n"
     ]
    }
   ],
   "source": [
    "print(li[::-1])"
   ]
  },
  {
   "cell_type": "code",
   "execution_count": 20,
   "id": "0585fd16",
   "metadata": {},
   "outputs": [
    {
     "name": "stdout",
     "output_type": "stream",
     "text": [
      "[1, 5, 65]\n"
     ]
    }
   ],
   "source": [
    "print(li[::2])"
   ]
  },
  {
   "cell_type": "code",
   "execution_count": 21,
   "id": "af76aeb3",
   "metadata": {},
   "outputs": [
    {
     "name": "stdout",
     "output_type": "stream",
     "text": [
      "1 65\n"
     ]
    }
   ],
   "source": [
    "print(li[0],li[4])"
   ]
  },
  {
   "cell_type": "code",
   "execution_count": 22,
   "id": "6c9b7929",
   "metadata": {},
   "outputs": [
    {
     "name": "stdout",
     "output_type": "stream",
     "text": [
      "[1, 2, 5, 6, 65] [1, 2, 5]\n"
     ]
    }
   ],
   "source": [
    "print(li[0:5],li[:3])"
   ]
  },
  {
   "cell_type": "code",
   "execution_count": 24,
   "id": "04c86662",
   "metadata": {},
   "outputs": [
    {
     "name": "stdout",
     "output_type": "stream",
     "text": [
      "[[1, 2, 3], [4, 5, 6], [7, 8, 9]]\n"
     ]
    }
   ],
   "source": [
    "matrix = [[1,2,3],[4,5,6],[7,8,9]]\n",
    "\n",
    "print(matrix)"
   ]
  },
  {
   "cell_type": "code",
   "execution_count": 25,
   "id": "e4bb361b",
   "metadata": {},
   "outputs": [
    {
     "name": "stdout",
     "output_type": "stream",
     "text": [
      "[1, 2, 3]\n"
     ]
    }
   ],
   "source": [
    "print(matrix[0])"
   ]
  },
  {
   "cell_type": "code",
   "execution_count": 27,
   "id": "86be30e5",
   "metadata": {},
   "outputs": [
    {
     "name": "stdout",
     "output_type": "stream",
     "text": [
      "5\n"
     ]
    }
   ],
   "source": [
    "print(matrix[1][1])"
   ]
  },
  {
   "cell_type": "code",
   "execution_count": 28,
   "id": "72358597",
   "metadata": {},
   "outputs": [
    {
     "name": "stdout",
     "output_type": "stream",
     "text": [
      "[2, 3]\n"
     ]
    }
   ],
   "source": [
    "print(matrix[0][1:])"
   ]
  },
  {
   "cell_type": "code",
   "execution_count": 29,
   "id": "c3f443fc",
   "metadata": {},
   "outputs": [
    {
     "name": "stdout",
     "output_type": "stream",
     "text": [
      "9\n"
     ]
    }
   ],
   "source": [
    "print(max(matrix[2]))"
   ]
  },
  {
   "cell_type": "code",
   "execution_count": 30,
   "id": "9bd95d5c",
   "metadata": {},
   "outputs": [
    {
     "name": "stdout",
     "output_type": "stream",
     "text": [
      "3\n"
     ]
    }
   ],
   "source": [
    "print(len(matrix[1]))"
   ]
  },
  {
   "cell_type": "code",
   "execution_count": 32,
   "id": "87b691d1",
   "metadata": {},
   "outputs": [
    {
     "name": "stdout",
     "output_type": "stream",
     "text": [
      "[1, 2, 3]\n",
      "[4, 5, 6]\n",
      "[7, 8, 9]\n"
     ]
    }
   ],
   "source": [
    "for ele in matrix:\n",
    "    print(ele)"
   ]
  },
  {
   "cell_type": "code",
   "execution_count": 33,
   "id": "f815a842",
   "metadata": {},
   "outputs": [
    {
     "name": "stdout",
     "output_type": "stream",
     "text": [
      "2\n",
      "5\n",
      "8\n"
     ]
    }
   ],
   "source": [
    "for ele in matrix:\n",
    "    print(ele[1])"
   ]
  },
  {
   "cell_type": "markdown",
   "id": "5eaad219",
   "metadata": {},
   "source": [
    "## List Methods"
   ]
  },
  {
   "cell_type": "code",
   "execution_count": 34,
   "id": "d98dc9f6",
   "metadata": {},
   "outputs": [],
   "source": [
    "empty = []\n"
   ]
  },
  {
   "cell_type": "code",
   "execution_count": 35,
   "id": "40ecbe38",
   "metadata": {},
   "outputs": [
    {
     "name": "stdout",
     "output_type": "stream",
     "text": [
      "[55, [1, 2, 3]]\n"
     ]
    }
   ],
   "source": [
    "empty.append(55)\n",
    "empty.append([1,2,3])\n",
    "\n",
    "print(empty)"
   ]
  },
  {
   "cell_type": "code",
   "execution_count": 2,
   "id": "ea5a7497",
   "metadata": {},
   "outputs": [
    {
     "name": "stdout",
     "output_type": "stream",
     "text": [
      "Enter elements to add to list53\n",
      "Enter elements to add to listabc\n",
      "Enter elements to add to listdr\n",
      "Enter elements to add to list4\n",
      "Enter elements to add to list24\n"
     ]
    }
   ],
   "source": [
    "empty=[]\n",
    "for i in range(5):\n",
    "    empty.append(input(\"Enter elements to add to list\"))"
   ]
  },
  {
   "cell_type": "code",
   "execution_count": 3,
   "id": "1fa77dcd",
   "metadata": {},
   "outputs": [
    {
     "name": "stdout",
     "output_type": "stream",
     "text": [
      "['53', 'abc', 'dr', '4', '24']\n"
     ]
    }
   ],
   "source": [
    "print(empty)"
   ]
  },
  {
   "cell_type": "code",
   "execution_count": 1,
   "id": "6c867c56",
   "metadata": {},
   "outputs": [],
   "source": [
    "li=[1,2,3,4]\n",
    "empty=['53', 'abc', 'dr', '4', '24']"
   ]
  },
  {
   "cell_type": "code",
   "execution_count": 3,
   "id": "753d3c93",
   "metadata": {},
   "outputs": [
    {
     "name": "stdout",
     "output_type": "stream",
     "text": [
      "['53', 'abc', 'dr', '4', '24', 1, 2, 3, 4]\n"
     ]
    }
   ],
   "source": [
    "empty.extend(li)\n",
    "print(empty)"
   ]
  },
  {
   "cell_type": "code",
   "execution_count": 4,
   "id": "376e7ed6",
   "metadata": {},
   "outputs": [
    {
     "name": "stdout",
     "output_type": "stream",
     "text": [
      "['53', 'abc', 'dr', '4', '24', 1, 2, 3, 4, 1, 2, 3, 4]\n"
     ]
    }
   ],
   "source": [
    "print(empty+li)"
   ]
  },
  {
   "cell_type": "code",
   "execution_count": 5,
   "id": "4e41d79b",
   "metadata": {},
   "outputs": [
    {
     "name": "stdout",
     "output_type": "stream",
     "text": [
      "['53', 'abc', 'dr', '4', '24', 1, 2, 3, 4, 1, 2, 3, 4]\n"
     ]
    }
   ],
   "source": [
    "emp2=empty+li\n",
    "print(emp2)"
   ]
  },
  {
   "cell_type": "code",
   "execution_count": 7,
   "id": "827eb9f3",
   "metadata": {},
   "outputs": [
    {
     "name": "stdout",
     "output_type": "stream",
     "text": [
      "dr\n"
     ]
    }
   ],
   "source": [
    "print(emp2[2])"
   ]
  },
  {
   "cell_type": "code",
   "execution_count": 9,
   "id": "67b11032",
   "metadata": {},
   "outputs": [
    {
     "name": "stdout",
     "output_type": "stream",
     "text": [
      "['53', 'abc', [1, 2, 3, 4], '4', '24', 1, 2, 3, 4, 1, 2, 3, 4]\n"
     ]
    }
   ],
   "source": [
    "emp2[2]=li\n",
    "print(emp2)"
   ]
  },
  {
   "cell_type": "code",
   "execution_count": 10,
   "id": "274007df",
   "metadata": {},
   "outputs": [
    {
     "name": "stdout",
     "output_type": "stream",
     "text": [
      "['53', 10, 'abc', [1, 2, 3, 4], '4', '24', 1, 2, 3, 4, 1, 2, 3, 4]\n"
     ]
    }
   ],
   "source": [
    "emp2.insert(1,10)\n",
    "print(emp2)"
   ]
  },
  {
   "cell_type": "code",
   "execution_count": 11,
   "id": "8653ca6f",
   "metadata": {},
   "outputs": [
    {
     "name": "stdout",
     "output_type": "stream",
     "text": [
      "['53', 10, 'abc', [1, 2, 3, 4], '4', '24', 1, 2, 3, 4, 1, 2, 3]\n"
     ]
    }
   ],
   "source": [
    "emp2.pop()\n",
    "\n",
    "print(emp2)"
   ]
  },
  {
   "cell_type": "code",
   "execution_count": 13,
   "id": "536cce89",
   "metadata": {},
   "outputs": [
    {
     "data": {
      "text/plain": [
       "10"
      ]
     },
     "execution_count": 13,
     "metadata": {},
     "output_type": "execute_result"
    }
   ],
   "source": [
    "emp2.pop(1)"
   ]
  },
  {
   "cell_type": "code",
   "execution_count": 14,
   "id": "99ac427a",
   "metadata": {},
   "outputs": [],
   "source": [
    "emp2.remove('abc')"
   ]
  },
  {
   "cell_type": "code",
   "execution_count": 15,
   "id": "bb30346a",
   "metadata": {},
   "outputs": [
    {
     "name": "stdout",
     "output_type": "stream",
     "text": [
      "['53', [1, 2, 3, 4], '4', '24', 1, 2, 3, 4, 1, 2, 3]\n"
     ]
    }
   ],
   "source": [
    "print(emp2)"
   ]
  },
  {
   "cell_type": "code",
   "execution_count": 16,
   "id": "6f787470",
   "metadata": {},
   "outputs": [
    {
     "name": "stdout",
     "output_type": "stream",
     "text": [
      "3\n",
      "['53', [1, 2, 3, 4], '4', '24', 1, 2, 3, 4, 1, 2]\n"
     ]
    }
   ],
   "source": [
    "print(emp2.pop())\n",
    "\n",
    "print(emp2)"
   ]
  },
  {
   "cell_type": "code",
   "execution_count": 17,
   "id": "da4b0e50",
   "metadata": {},
   "outputs": [
    {
     "name": "stdout",
     "output_type": "stream",
     "text": [
      "['53', [1, 2, 3, 4], '4', '24', 1, 2, 3, 4, 1, 2] ['53', [1, 2, 3, 4], '4', '24', 1, 2, 3, 4, 1, 2]\n"
     ]
    }
   ],
   "source": [
    "emp3=emp2\n",
    "print(emp3,emp2)"
   ]
  },
  {
   "cell_type": "code",
   "execution_count": 18,
   "id": "76561056",
   "metadata": {},
   "outputs": [
    {
     "name": "stdout",
     "output_type": "stream",
     "text": [
      "2549500996672 2549500996672\n"
     ]
    }
   ],
   "source": [
    "print(id(emp2),id(emp3))"
   ]
  },
  {
   "cell_type": "code",
   "execution_count": 19,
   "id": "ca590ec7",
   "metadata": {},
   "outputs": [
    {
     "name": "stdout",
     "output_type": "stream",
     "text": [
      "2\n",
      "['53', [1, 2, 3, 4], '4', '24', 1, 2, 3, 4, 1] ['53', [1, 2, 3, 4], '4', '24', 1, 2, 3, 4, 1]\n"
     ]
    }
   ],
   "source": [
    "print(emp3.pop())\n",
    "\n",
    "print(emp3,emp2)"
   ]
  },
  {
   "cell_type": "code",
   "execution_count": 20,
   "id": "8ad32da8",
   "metadata": {},
   "outputs": [
    {
     "name": "stdout",
     "output_type": "stream",
     "text": [
      "2\n"
     ]
    }
   ],
   "source": [
    "print(emp2.count(1))"
   ]
  },
  {
   "cell_type": "code",
   "execution_count": 21,
   "id": "83e35cba",
   "metadata": {},
   "outputs": [
    {
     "name": "stdout",
     "output_type": "stream",
     "text": [
      "3\n"
     ]
    }
   ],
   "source": [
    "print(emp2.index('24'))"
   ]
  },
  {
   "cell_type": "code",
   "execution_count": 22,
   "id": "7931d429",
   "metadata": {},
   "outputs": [
    {
     "name": "stdout",
     "output_type": "stream",
     "text": [
      "[1, 4, 3, 2, 1, '24', '4', [1, 2, 3, 4], '53']\n"
     ]
    }
   ],
   "source": [
    "emp2.reverse()\n",
    "print(emp2)"
   ]
  },
  {
   "cell_type": "code",
   "execution_count": 24,
   "id": "10c63263",
   "metadata": {},
   "outputs": [
    {
     "name": "stdout",
     "output_type": "stream",
     "text": [
      "[4, 5, 6, 7, 8, 66, 99]\n"
     ]
    }
   ],
   "source": [
    "li=[5,7,4,6,99,8,66]\n",
    "li.sort()\n",
    "\n",
    "print(li)"
   ]
  },
  {
   "cell_type": "code",
   "execution_count": 25,
   "id": "09cbff0f",
   "metadata": {},
   "outputs": [
    {
     "name": "stdout",
     "output_type": "stream",
     "text": [
      "[99, 66, 8, 7, 6, 5, 4]\n"
     ]
    }
   ],
   "source": [
    "li=[5,7,4,6,99,8,66]\n",
    "li.sort(reverse=True)\n",
    "\n",
    "print(li)"
   ]
  },
  {
   "cell_type": "code",
   "execution_count": 27,
   "id": "9c2f4eb8",
   "metadata": {},
   "outputs": [
    {
     "name": "stdout",
     "output_type": "stream",
     "text": [
      "[[35, 8, 7], [40, 2, 33], [40, 20, 3]]\n"
     ]
    }
   ],
   "source": [
    "matrix=[[40,2,33],[35,8,7],[40,20,3]]\n",
    "matrix.sort()\n",
    "\n",
    "print(matrix)"
   ]
  },
  {
   "cell_type": "code",
   "execution_count": 30,
   "id": "a2077659",
   "metadata": {},
   "outputs": [
    {
     "name": "stdout",
     "output_type": "stream",
     "text": [
      "[[40, 2, 33], [35, 5, 6], [6, 75, 8]]\n"
     ]
    }
   ],
   "source": [
    "matrix=[[40,2,33],[35,5,6],[6,75,8]]\n",
    "\n",
    "matrix.sort(key=lambda x:x[1])\n",
    "\n",
    "print(matrix)"
   ]
  },
  {
   "cell_type": "code",
   "execution_count": 31,
   "id": "9bb2a845",
   "metadata": {},
   "outputs": [
    {
     "name": "stdout",
     "output_type": "stream",
     "text": [
      "[[6, 75, 8], [35, 5, 6], [40, 2, 33]]\n",
      "[[40, 2, 33], [35, 5, 6], [6, 75, 8]]\n"
     ]
    }
   ],
   "source": [
    "print(sorted(matrix))\n",
    "print(matrix)"
   ]
  },
  {
   "cell_type": "code",
   "execution_count": 33,
   "id": "79b23b13",
   "metadata": {},
   "outputs": [
    {
     "name": "stdout",
     "output_type": "stream",
     "text": [
      "[[6, 75, 8], [35, 5, 6], [40, 2, 33]]\n"
     ]
    }
   ],
   "source": [
    "print(list(reversed(matrix)))"
   ]
  },
  {
   "cell_type": "code",
   "execution_count": 34,
   "id": "27428520",
   "metadata": {},
   "outputs": [
    {
     "name": "stdout",
     "output_type": "stream",
     "text": [
      "[]\n"
     ]
    }
   ],
   "source": [
    "emp3.clear()\n",
    "print(emp3)"
   ]
  },
  {
   "cell_type": "markdown",
   "id": "bd684d09",
   "metadata": {},
   "source": [
    "### Tuples\n",
    "\n",
    "- Storing the Group of non-homogenous group of data\n",
    "\n",
    "- It is immutable\n",
    "- It is iterable\n",
    "- It is ordered\n",
    "- It is created using ()"
   ]
  },
  {
   "cell_type": "code",
   "execution_count": 35,
   "id": "032a8c3b",
   "metadata": {},
   "outputs": [],
   "source": [
    "t1=()\n",
    "t2=tuple()"
   ]
  },
  {
   "cell_type": "code",
   "execution_count": 36,
   "id": "53cde398",
   "metadata": {},
   "outputs": [],
   "source": [
    "t1=(1,2,3,4,'Python',(1,2,3),[1,2,3])"
   ]
  },
  {
   "cell_type": "code",
   "execution_count": 37,
   "id": "d08eee90",
   "metadata": {},
   "outputs": [
    {
     "name": "stdout",
     "output_type": "stream",
     "text": [
      "1 [1, 2, 3] 3 (1, 2, 3)\n"
     ]
    }
   ],
   "source": [
    "print(t1[0],t1[-1],t1[2],t1[-2])"
   ]
  },
  {
   "cell_type": "code",
   "execution_count": 38,
   "id": "d7d4c611",
   "metadata": {},
   "outputs": [
    {
     "name": "stdout",
     "output_type": "stream",
     "text": [
      "(1, 2)\n"
     ]
    }
   ],
   "source": [
    "print(t1[0:2])"
   ]
  },
  {
   "cell_type": "code",
   "execution_count": 39,
   "id": "484ab5b4",
   "metadata": {},
   "outputs": [
    {
     "name": "stdout",
     "output_type": "stream",
     "text": [
      "1\n",
      "2\n",
      "3\n",
      "4\n",
      "Python\n",
      "(1, 2, 3)\n",
      "[1, 2, 3]\n"
     ]
    }
   ],
   "source": [
    "for i in t1:\n",
    "    print(i)"
   ]
  },
  {
   "cell_type": "code",
   "execution_count": 40,
   "id": "d9bfd5b2",
   "metadata": {},
   "outputs": [
    {
     "name": "stdout",
     "output_type": "stream",
     "text": [
      "7\n"
     ]
    }
   ],
   "source": [
    "print(len(t1))"
   ]
  },
  {
   "cell_type": "markdown",
   "id": "02c68b76",
   "metadata": {},
   "source": [
    "### Tuple Methods"
   ]
  },
  {
   "cell_type": "code",
   "execution_count": 41,
   "id": "ad551380",
   "metadata": {},
   "outputs": [
    {
     "name": "stdout",
     "output_type": "stream",
     "text": [
      "1\n"
     ]
    }
   ],
   "source": [
    "print(t1.count(1))"
   ]
  },
  {
   "cell_type": "code",
   "execution_count": 42,
   "id": "b753beee",
   "metadata": {},
   "outputs": [
    {
     "name": "stdout",
     "output_type": "stream",
     "text": [
      "4\n"
     ]
    }
   ],
   "source": [
    "print(t1.index('Python'))"
   ]
  },
  {
   "cell_type": "code",
   "execution_count": null,
   "id": "9e16e646",
   "metadata": {},
   "outputs": [],
   "source": []
  }
 ],
 "metadata": {
  "kernelspec": {
   "display_name": "Python 3",
   "language": "python",
   "name": "python3"
  },
  "language_info": {
   "codemirror_mode": {
    "name": "ipython",
    "version": 3
   },
   "file_extension": ".py",
   "mimetype": "text/x-python",
   "name": "python",
   "nbconvert_exporter": "python",
   "pygments_lexer": "ipython3",
   "version": "3.8.8"
  }
 },
 "nbformat": 4,
 "nbformat_minor": 5
}
