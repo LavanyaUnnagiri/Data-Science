{
 "cells": [
  {
   "cell_type": "markdown",
   "id": "1326711a",
   "metadata": {},
   "source": [
    "### Day Objectives\n",
    "\n",
    "- Strings\n",
    "    - Slicing in python\n",
    "    - String Methods\n",
    "- Lists\n",
    "    - Accessing the elements from the list\n",
    "    - List Methods\n",
    "- Tuple\n",
    "    - Accessing the Elements from the Tuple\n",
    "    - Tuple methods"
   ]
  },
  {
   "cell_type": "code",
   "execution_count": 3,
   "id": "837fa70f",
   "metadata": {},
   "outputs": [
    {
     "name": "stdout",
     "output_type": "stream",
     "text": [
      "y a\n"
     ]
    }
   ],
   "source": [
    "str=\"lavanya\"\n",
    "print(str[5],str[-1])"
   ]
  },
  {
   "cell_type": "code",
   "execution_count": 4,
   "id": "b5cb9933",
   "metadata": {},
   "outputs": [
    {
     "name": "stdout",
     "output_type": "stream",
     "text": [
      "7\n"
     ]
    }
   ],
   "source": [
    "print(len(str))"
   ]
  },
  {
   "cell_type": "markdown",
   "id": "ddfe9501",
   "metadata": {},
   "source": [
    "### String Slicing\n",
    "\n",
    "#### Syntax\n",
    "\n",
    "string_var[startingIndex: EndingIndex]\n",
    "\n",
    "- Default SI -> 0\n",
    "- Default EI -> Length if string -1"
   ]
  },
  {
   "cell_type": "code",
   "execution_count": 13,
   "id": "66b159e3",
   "metadata": {},
   "outputs": [
    {
     "name": "stdout",
     "output_type": "stream",
     "text": [
      "lava\n"
     ]
    }
   ],
   "source": [
    "print(str[0: 4])"
   ]
  },
  {
   "cell_type": "code",
   "execution_count": 17,
   "id": "dd6d2888",
   "metadata": {},
   "outputs": [
    {
     "name": "stdout",
     "output_type": "stream",
     "text": [
      "lavanya\n"
     ]
    }
   ],
   "source": [
    "print(str[-7: ])"
   ]
  },
  {
   "cell_type": "code",
   "execution_count": 24,
   "id": "dc9df663",
   "metadata": {},
   "outputs": [
    {
     "name": "stdout",
     "output_type": "stream",
     "text": [
      "aynaval\n"
     ]
    }
   ],
   "source": [
    "print(str[ : : -1])"
   ]
  },
  {
   "cell_type": "code",
   "execution_count": 29,
   "id": "2987392d",
   "metadata": {},
   "outputs": [
    {
     "name": "stdout",
     "output_type": "stream",
     "text": [
      "lvna\n"
     ]
    }
   ],
   "source": [
    "print(str[ 0: 7 :2])"
   ]
  },
  {
   "cell_type": "code",
   "execution_count": 30,
   "id": "3f64388e",
   "metadata": {},
   "outputs": [
    {
     "name": "stdout",
     "output_type": "stream",
     "text": [
      "l\n"
     ]
    }
   ],
   "source": [
    "print(str[-7: : -2])"
   ]
  },
  {
   "cell_type": "code",
   "execution_count": 23,
   "id": "92d666d2",
   "metadata": {},
   "outputs": [
    {
     "name": "stdout",
     "output_type": "stream",
     "text": [
      "anvl\n"
     ]
    }
   ],
   "source": [
    "print(str[ : : -2])"
   ]
  },
  {
   "cell_type": "markdown",
   "id": "f62c29dc",
   "metadata": {},
   "source": [
    "### String Methods"
   ]
  },
  {
   "cell_type": "code",
   "execution_count": 31,
   "id": "2140e780",
   "metadata": {},
   "outputs": [
    {
     "name": "stdout",
     "output_type": "stream",
     "text": [
      "APSSDC DATA SCIENCE TRAINING PROGRAM\n"
     ]
    }
   ],
   "source": [
    "s = 'Apssdc Data Science Training Program'\n",
    "\n",
    "print(s.upper())"
   ]
  },
  {
   "cell_type": "code",
   "execution_count": 32,
   "id": "dee93693",
   "metadata": {},
   "outputs": [
    {
     "name": "stdout",
     "output_type": "stream",
     "text": [
      "apssdc data science training program\n"
     ]
    }
   ],
   "source": [
    "print(s.lower())"
   ]
  },
  {
   "cell_type": "code",
   "execution_count": 33,
   "id": "248a2cf7",
   "metadata": {},
   "outputs": [
    {
     "name": "stdout",
     "output_type": "stream",
     "text": [
      "aPSSDC dATA sCIENCE tRAINING pROGRAM\n"
     ]
    }
   ],
   "source": [
    "print(s.swapcase())"
   ]
  },
  {
   "cell_type": "code",
   "execution_count": 34,
   "id": "42fc6dfc",
   "metadata": {},
   "outputs": [
    {
     "name": "stdout",
     "output_type": "stream",
     "text": [
      "True False\n"
     ]
    }
   ],
   "source": [
    "su = 'APSSDC'\n",
    "sl = 'python'\n",
    "sn ='8789786765'\n",
    "\n",
    "\n",
    "print(su.isupper(),sl.isupper())"
   ]
  },
  {
   "cell_type": "code",
   "execution_count": 37,
   "id": "ef6d0047",
   "metadata": {},
   "outputs": [
    {
     "name": "stdout",
     "output_type": "stream",
     "text": [
      "False True\n"
     ]
    }
   ],
   "source": [
    "print(su.islower(),sl.islower())"
   ]
  },
  {
   "cell_type": "code",
   "execution_count": 39,
   "id": "a0906a2a",
   "metadata": {},
   "outputs": [
    {
     "name": "stdout",
     "output_type": "stream",
     "text": [
      "True False False\n"
     ]
    }
   ],
   "source": [
    "print(sn.isdigit(),su.isdigit(),sl.isdigit())"
   ]
  },
  {
   "cell_type": "markdown",
   "id": "a1e284bb",
   "metadata": {},
   "source": [
    "### Validating indian Mobile Number\n",
    "\n",
    "- +91, 0 ->\n",
    "- 10 digits -> len()\n",
    "- start with 9,8,7,6"
   ]
  },
  {
   "cell_type": "code",
   "execution_count": 45,
   "id": "39f7b88b",
   "metadata": {},
   "outputs": [
    {
     "name": "stdout",
     "output_type": "stream",
     "text": [
      "+91987876569o is not valid indian mobile number\n"
     ]
    }
   ],
   "source": [
    "n1 = '+919878765690'\n",
    "n2 = '9878765698'\n",
    "n3 = '+915678909876'\n",
    "n4 = '5678909876'\n",
    "\n",
    "\n",
    "if(n1[0] == '+'):\n",
    "    if(n1[1:3] == '91' and len(n1[3: ])== 10 and n1[3] in '9876'and n1[1: ].isdigit()):\n",
    "        print(n1,\"is valid indian mobile number\")\n",
    "    else:\n",
    "         print(n1,\"is not valid indian mobile number\")\n",
    "elif(len(n1)==10 and n1[0] in '9876'):\n",
    "    \n",
    "    print(n1,\"is valid indian mobile number\")\n",
    "else:\n",
    "    print(n1,\"is not valid indian mobile number\")\n",
    "            \n",
    "            \n",
    "            \n",
    "        "
   ]
  },
  {
   "cell_type": "code",
   "execution_count": 50,
   "id": "a920540a",
   "metadata": {},
   "outputs": [
    {
     "name": "stdout",
     "output_type": "stream",
     "text": [
      "5878765690 is not valid indian mobile number\n"
     ]
    }
   ],
   "source": [
    "n1 = '5878765690'\n",
    "\n",
    "\n",
    "if(n1[0] == '+'):\n",
    "    if(n1[1:3] == '91' and len(n1[3: ])== 10 and n1[3] in '9876' and n1[1: ].isdigit()):\n",
    "        print(n1,\"is valid indian mobile number\")\n",
    "    else:\n",
    "         print(n1,\"is not valid indian mobile number\")\n",
    "elif(len(n1)==10 and n1[0] in '9876' and n1[1: ].isdigit()):\n",
    "    \n",
    "    print(n1,\"is valid indian mobile number\")\n",
    "else:\n",
    "    print(n1,\"is not valid indian mobile number\")\n",
    "            "
   ]
  },
  {
   "cell_type": "code",
   "execution_count": 52,
   "id": "e51546f3",
   "metadata": {},
   "outputs": [
    {
     "name": "stdout",
     "output_type": "stream",
     "text": [
      "True\n"
     ]
    }
   ],
   "source": [
    "rollno = '19BQ1A12G7'\n",
    "\n",
    "print(rollno.startswith('19'))"
   ]
  },
  {
   "cell_type": "code",
   "execution_count": 53,
   "id": "09de2308",
   "metadata": {},
   "outputs": [
    {
     "name": "stdout",
     "output_type": "stream",
     "text": [
      "False\n"
     ]
    }
   ],
   "source": [
    "email1 = 'anilkumar_t@apssdc.in'\n",
    "email2 = 'anil@gmail.com'\n",
    "\n",
    "print(email2.endswith('apssdc.in'))"
   ]
  },
  {
   "cell_type": "code",
   "execution_count": 55,
   "id": "0ad9aa8c",
   "metadata": {},
   "outputs": [
    {
     "name": "stdout",
     "output_type": "stream",
     "text": [
      "11\n"
     ]
    }
   ],
   "source": [
    "print(email1.index('@'))"
   ]
  },
  {
   "cell_type": "code",
   "execution_count": 57,
   "id": "afeb7ed0",
   "metadata": {},
   "outputs": [
    {
     "name": "stdout",
     "output_type": "stream",
     "text": [
      "11\n"
     ]
    }
   ],
   "source": [
    "print(email1.index('@', 5))"
   ]
  },
  {
   "cell_type": "code",
   "execution_count": 59,
   "id": "4761abfc",
   "metadata": {},
   "outputs": [
    {
     "name": "stdout",
     "output_type": "stream",
     "text": [
      "3\n"
     ]
    }
   ],
   "source": [
    "print(email1.count('a'))"
   ]
  },
  {
   "cell_type": "code",
   "execution_count": 60,
   "id": "4ad2ce80",
   "metadata": {},
   "outputs": [
    {
     "name": "stdout",
     "output_type": "stream",
     "text": [
      "1\n"
     ]
    }
   ],
   "source": [
    "print(email1.count('ss'))"
   ]
  },
  {
   "cell_type": "code",
   "execution_count": 61,
   "id": "943135f9",
   "metadata": {},
   "outputs": [
    {
     "name": "stdout",
     "output_type": "stream",
     "text": [
      " APSSDC python)))))) (((((( APSSDC python  APSSDC python\n"
     ]
    }
   ],
   "source": [
    "s = '(((((( APSSDC python))))))'\n",
    "\n",
    "print(s.lstrip('('), s.rstrip(')'),s.strip('()'))"
   ]
  },
  {
   "cell_type": "code",
   "execution_count": 62,
   "id": "29f76ab7",
   "metadata": {},
   "outputs": [
    {
     "name": "stdout",
     "output_type": "stream",
     "text": [
      "cleaned data\n"
     ]
    }
   ],
   "source": [
    "s = '{[{{{{{{(((cleaned data)))}}}}}}]}'\n",
    "\n",
    "print(s.strip('([{}])'))"
   ]
  },
  {
   "cell_type": "code",
   "execution_count": 64,
   "id": "9e3a27b0",
   "metadata": {},
   "outputs": [
    {
     "data": {
      "text/plain": [
       "'{*[*{*{*{*{*{*{*(*(*(*c*l*e*a*n*e*d* *d*a*t*a*)*)*)*}*}*}*}*}*}*]*}'"
      ]
     },
     "execution_count": 64,
     "metadata": {},
     "output_type": "execute_result"
    }
   ],
   "source": [
    "'*'.join(s)"
   ]
  },
  {
   "cell_type": "code",
   "execution_count": 69,
   "id": "96a58e4c",
   "metadata": {},
   "outputs": [
    {
     "data": {
      "text/plain": [
       "'This-is-Lavanya'"
      ]
     },
     "execution_count": 69,
     "metadata": {},
     "output_type": "execute_result"
    }
   ],
   "source": [
    "st = 'This is Lavanya'\n",
    "st.replace(' ','-')"
   ]
  },
  {
   "cell_type": "code",
   "execution_count": 70,
   "id": "0c1a1673",
   "metadata": {},
   "outputs": [
    {
     "name": "stdout",
     "output_type": "stream",
     "text": [
      "True True\n"
     ]
    }
   ],
   "source": [
    "s = 'asdfg'\n",
    "s3 = 'a456f6'\n",
    "\n",
    "print(s.isalpha(),s3.isalnum())"
   ]
  },
  {
   "cell_type": "code",
   "execution_count": 72,
   "id": "aea9c460",
   "metadata": {},
   "outputs": [
    {
     "name": "stdout",
     "output_type": "stream",
     "text": [
      "l\n",
      "a\n",
      "v\n",
      "a\n",
      "n\n",
      "y\n",
      "a\n"
     ]
    }
   ],
   "source": [
    "for char in str:\n",
    "  \n",
    "\n",
    "  if(char.isalpha()):\n",
    "    print(char)"
   ]
  },
  {
   "cell_type": "code",
   "execution_count": null,
   "id": "5d0d4ad3",
   "metadata": {},
   "outputs": [],
   "source": []
  }
 ],
 "metadata": {
  "kernelspec": {
   "display_name": "Python 3",
   "language": "python",
   "name": "python3"
  },
  "language_info": {
   "codemirror_mode": {
    "name": "ipython",
    "version": 3
   },
   "file_extension": ".py",
   "mimetype": "text/x-python",
   "name": "python",
   "nbconvert_exporter": "python",
   "pygments_lexer": "ipython3",
   "version": "3.8.8"
  }
 },
 "nbformat": 4,
 "nbformat_minor": 5
}
